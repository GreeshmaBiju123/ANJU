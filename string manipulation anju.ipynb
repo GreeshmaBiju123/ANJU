{
 "cells": [
  {
   "cell_type": "markdown",
   "id": "213647c8",
   "metadata": {},
   "source": [
    "# capitalize"
   ]
  },
  {
   "cell_type": "code",
   "execution_count": 1,
   "id": "3871a68e",
   "metadata": {},
   "outputs": [
    {
     "name": "stdout",
     "output_type": "stream",
     "text": [
      "Hello world\n"
     ]
    }
   ],
   "source": [
    "# Upper case the first letter in this sentence:\n",
    "txt=\"hello world\"\n",
    "x=txt.capitalize()\n",
    "print(x)"
   ]
  },
  {
   "cell_type": "code",
   "execution_count": 2,
   "id": "e1788945",
   "metadata": {},
   "outputs": [
    {
     "name": "stdout",
     "output_type": "stream",
     "text": [
      "Hello world\n"
     ]
    }
   ],
   "source": [
    "txt=\"hello World\"\n",
    "x=txt.capitalize()\n",
    "print(x)"
   ]
  },
  {
   "cell_type": "code",
   "execution_count": 3,
   "id": "07a3f9c1",
   "metadata": {},
   "outputs": [
    {
     "name": "stdout",
     "output_type": "stream",
     "text": [
      " 40 hello world\n"
     ]
    }
   ],
   "source": [
    "txt=\" 40 hello world\"\n",
    "x=txt.capitalize()\n",
    "print(x)"
   ]
  },
  {
   "cell_type": "markdown",
   "id": "b474fb5e",
   "metadata": {},
   "source": [
    "# casefold"
   ]
  },
  {
   "cell_type": "code",
   "execution_count": 4,
   "id": "14a01ef4",
   "metadata": {},
   "outputs": [
    {
     "name": "stdout",
     "output_type": "stream",
     "text": [
      "hello world\n"
     ]
    }
   ],
   "source": [
    "# Make the string lower case:\n",
    "txt=\"HEllo WOrld\"\n",
    "x=txt.casefold()\n",
    "print(x)"
   ]
  },
  {
   "cell_type": "markdown",
   "id": "d9c21ac8",
   "metadata": {},
   "source": [
    "# center"
   ]
  },
  {
   "cell_type": "code",
   "execution_count": 5,
   "id": "e11bb8fb",
   "metadata": {},
   "outputs": [
    {
     "name": "stdout",
     "output_type": "stream",
     "text": [
      "       banana       \n"
     ]
    }
   ],
   "source": [
    "# Print the word \"banana\", taking up the space of 20 characters, with \"banana\" in the middle:\n",
    "txt=\"banana\"\n",
    "x=txt.center(20)\n",
    "print(x)"
   ]
  },
  {
   "cell_type": "code",
   "execution_count": 6,
   "id": "f742320d",
   "metadata": {},
   "outputs": [
    {
     "name": "stdout",
     "output_type": "stream",
     "text": [
      "AAAAAAAbananaAAAAAAA\n"
     ]
    }
   ],
   "source": [
    "# Using the letter \"O\" as the padding character:\n",
    "txt=\"banana\"\n",
    "x=txt.center(20,\"A\")\n",
    "print(x)"
   ]
  },
  {
   "cell_type": "markdown",
   "id": "1bb0e3ee",
   "metadata": {},
   "source": [
    "# COUNT"
   ]
  },
  {
   "cell_type": "code",
   "execution_count": 7,
   "id": "c3447170",
   "metadata": {},
   "outputs": [
    {
     "name": "stdout",
     "output_type": "stream",
     "text": [
      "2\n"
     ]
    }
   ],
   "source": [
    "# Return the number of times the value \"apple\" appears in the string:\n",
    "txt=\"i love apples,apple are favorite fruit\"\n",
    "x=txt.count(\"apple\")\n",
    "print(x)"
   ]
  },
  {
   "cell_type": "code",
   "execution_count": 8,
   "id": "5619d855",
   "metadata": {},
   "outputs": [
    {
     "name": "stdout",
     "output_type": "stream",
     "text": [
      "1\n"
     ]
    }
   ],
   "source": [
    "# Search from position 10 to 24:\n",
    "txt=\"i love apples,apple are favorite fruit\"\n",
    "x=txt.count(\"apple\",10,24)\n",
    "print(x)"
   ]
  },
  {
   "cell_type": "markdown",
   "id": "9cfce366",
   "metadata": {},
   "source": [
    "# encode"
   ]
  },
  {
   "cell_type": "code",
   "execution_count": 10,
   "id": "74229532",
   "metadata": {},
   "outputs": [
    {
     "name": "stdout",
     "output_type": "stream",
     "text": [
      "b'my name is  St\\xc3\\xa5le'\n"
     ]
    }
   ],
   "source": [
    "# UTF-8 encode the string:\n",
    "txt=\"my name is  Ståle\"\n",
    "x=txt.encode()\n",
    "print(x)"
   ]
  },
  {
   "cell_type": "code",
   "execution_count": 12,
   "id": "f4cb92ba",
   "metadata": {},
   "outputs": [
    {
     "name": "stdout",
     "output_type": "stream",
     "text": [
      "b'my name is  St\\\\xe5le'\n",
      "b'my name is  Stle'\n",
      "b'my name is  St\\\\N{LATIN SMALL LETTER A WITH RING ABOVE}le'\n",
      "b'my name is  St?le'\n",
      "b'my name is  St&#229;le'\n"
     ]
    }
   ],
   "source": [
    "# These examples uses ascii encoding, and a character that cannot be encoded, showing the result with different errors:\n",
    "txt=\"my name is  Ståle\"\n",
    "print(txt.encode(encoding=\"ascii\",errors=\"backslashreplace\"))\n",
    "print(txt.encode(encoding=\"ascii\",errors=\"ignore\"))\n",
    "print(txt.encode(encoding=\"ascii\",errors=\"namereplace\"))\n",
    "print(txt.encode(encoding=\"ascii\",errors=\"replace\"))\n",
    "print(txt.encode(encoding=\"ascii\",errors=\"xmlcharrefreplace\"))\n"
   ]
  },
  {
   "cell_type": "markdown",
   "id": "5b23b3b0",
   "metadata": {},
   "source": [
    "# endswith"
   ]
  },
  {
   "cell_type": "code",
   "execution_count": 2,
   "id": "5b67ef16",
   "metadata": {},
   "outputs": [
    {
     "name": "stdout",
     "output_type": "stream",
     "text": [
      "True\n"
     ]
    }
   ],
   "source": [
    "# Check if the string ends with a punctuation sign (.):\n",
    "txt=\"hello,welcome my world.\"\n",
    "x=txt.endswith(\".\")\n",
    "print(x)"
   ]
  },
  {
   "cell_type": "code",
   "execution_count": 3,
   "id": "5504f72b",
   "metadata": {},
   "outputs": [
    {
     "name": "stdout",
     "output_type": "stream",
     "text": [
      "True\n"
     ]
    }
   ],
   "source": [
    "# Check if the string ends with the phrase \"my world.\":\n",
    "txt=\"hello,welcome my world.\"\n",
    "x=txt.endswith(\"my world.\")\n",
    "print(x)"
   ]
  },
  {
   "cell_type": "code",
   "execution_count": 4,
   "id": "8d0df0f2",
   "metadata": {},
   "outputs": [
    {
     "name": "stdout",
     "output_type": "stream",
     "text": [
      "False\n"
     ]
    }
   ],
   "source": [
    "# Check if position 5 to 11 ends with the phrase \"my world.\":\n",
    "txt=\"hello,welcome my world.\"\n",
    "x=txt.endswith(\"my world.\",5,11)\n",
    "print(x)"
   ]
  },
  {
   "cell_type": "markdown",
   "id": "9699b856",
   "metadata": {},
   "source": [
    "# expandtabs"
   ]
  },
  {
   "cell_type": "code",
   "execution_count": 5,
   "id": "0104c047",
   "metadata": {},
   "outputs": [
    {
     "name": "stdout",
     "output_type": "stream",
     "text": [
      "H e l l o\n"
     ]
    }
   ],
   "source": [
    "# Set the tab size to 2 whitespaces:\n",
    "txt=\"H\\te\\tl\\tl\\to\"\n",
    "x=txt.expandtabs(2)\n",
    "print(x)"
   ]
  },
  {
   "cell_type": "code",
   "execution_count": 6,
   "id": "451fafdb",
   "metadata": {},
   "outputs": [
    {
     "name": "stdout",
     "output_type": "stream",
     "text": [
      "H\te\tl\tl\to\n",
      "H       e       l       l       o\n",
      "H e l l o\n",
      "H   e   l   l   o\n",
      "H         e         l         l         o\n"
     ]
    }
   ],
   "source": [
    "# See the result using different tab sizes:\n",
    "txt=\"H\\te\\tl\\tl\\to\"\n",
    "print(txt)\n",
    "print(txt.expandtabs())\n",
    "print(txt.expandtabs(2))\n",
    "print(txt.expandtabs(4))\n",
    "print(txt.expandtabs(10))\n",
    "\n",
    "\n"
   ]
  },
  {
   "cell_type": "markdown",
   "id": "f59887e6",
   "metadata": {},
   "source": [
    "# find"
   ]
  },
  {
   "cell_type": "code",
   "execution_count": 8,
   "id": "16a87ef0",
   "metadata": {},
   "outputs": [
    {
     "name": "stdout",
     "output_type": "stream",
     "text": [
      "6\n"
     ]
    }
   ],
   "source": [
    "# Where in the text is the word \"welcome\"?:\n",
    "txt=\"hello,welcome my world.\"\n",
    "x=txt.find(\"welcome\")\n",
    "print(x)"
   ]
  },
  {
   "cell_type": "code",
   "execution_count": 9,
   "id": "663b68be",
   "metadata": {},
   "outputs": [
    {
     "name": "stdout",
     "output_type": "stream",
     "text": [
      "1\n"
     ]
    }
   ],
   "source": [
    "# Where in the text is the first occurrence of the letter \"e\"?:\n",
    "txt=\"hello,welcome my world.\"\n",
    "x=txt.find(\"e\")\n",
    "print(x)"
   ]
  },
  {
   "cell_type": "code",
   "execution_count": 10,
   "id": "f07f31bf",
   "metadata": {},
   "outputs": [
    {
     "name": "stdout",
     "output_type": "stream",
     "text": [
      "7\n"
     ]
    }
   ],
   "source": [
    "# Where in the text is the first occurrence of the letter \"e\" when you only search between position 5 and 10?:\n",
    "txt=\"hello,welcome my world.\"\n",
    "x=txt.find(\"e\",5,10)\n",
    "print(x)"
   ]
  },
  {
   "cell_type": "code",
   "execution_count": 11,
   "id": "8b2865d8",
   "metadata": {},
   "outputs": [
    {
     "name": "stdout",
     "output_type": "stream",
     "text": [
      "-1\n"
     ]
    },
    {
     "ename": "ValueError",
     "evalue": "substring not found",
     "output_type": "error",
     "traceback": [
      "\u001b[1;31m---------------------------------------------------------------------------\u001b[0m",
      "\u001b[1;31mValueError\u001b[0m                                Traceback (most recent call last)",
      "Input \u001b[1;32mIn [11]\u001b[0m, in \u001b[0;36m<cell line: 4>\u001b[1;34m()\u001b[0m\n\u001b[0;32m      2\u001b[0m txt\u001b[38;5;241m=\u001b[39m\u001b[38;5;124m\"\u001b[39m\u001b[38;5;124mhello,welcome my world.\u001b[39m\u001b[38;5;124m\"\u001b[39m\n\u001b[0;32m      3\u001b[0m \u001b[38;5;28mprint\u001b[39m(txt\u001b[38;5;241m.\u001b[39mfind(\u001b[38;5;124m\"\u001b[39m\u001b[38;5;124mq\u001b[39m\u001b[38;5;124m\"\u001b[39m))\n\u001b[1;32m----> 4\u001b[0m \u001b[38;5;28mprint\u001b[39m(\u001b[43mtxt\u001b[49m\u001b[38;5;241;43m.\u001b[39;49m\u001b[43mindex\u001b[49m\u001b[43m(\u001b[49m\u001b[38;5;124;43m\"\u001b[39;49m\u001b[38;5;124;43mq\u001b[39;49m\u001b[38;5;124;43m\"\u001b[39;49m\u001b[43m)\u001b[49m)\n",
      "\u001b[1;31mValueError\u001b[0m: substring not found"
     ]
    }
   ],
   "source": [
    "# If the value is not found, the find() method returns -1, but the index() method will raise an exception:\n",
    "txt=\"hello,welcome my world.\"\n",
    "print(txt.find(\"q\"))\n",
    "print(txt.index(\"q\"))"
   ]
  },
  {
   "cell_type": "markdown",
   "id": "1d2c96d2",
   "metadata": {},
   "source": [
    "# format"
   ]
  },
  {
   "cell_type": "code",
   "execution_count": 13,
   "id": "15097362",
   "metadata": {},
   "outputs": [
    {
     "name": "stdout",
     "output_type": "stream",
     "text": [
      "for only 49.00 dollers!\n"
     ]
    }
   ],
   "source": [
    "# Insert the price inside the placeholder, the price should be in fixed point, two-decimal format:\n",
    "txt=\"for only {price:.2f} dollers!\"\n",
    "print(txt.format(price=49))"
   ]
  },
  {
   "cell_type": "code",
   "execution_count": 14,
   "id": "9b6df857",
   "metadata": {},
   "outputs": [
    {
     "name": "stdout",
     "output_type": "stream",
     "text": [
      "my name is ammu,iam 25\n",
      "my name is ammu,iam 25\n",
      "my name is ammu,iam 25\n"
     ]
    }
   ],
   "source": [
    "# Using different placeholder values:\n",
    "txt1=\"my name is {fname},iam {age}\".format(fname=\"ammu\",age=25)\n",
    "txt2=\"my name is {0},iam {1}\".format(\"ammu\",25)\n",
    "txt3=\"my name is {},iam {}\".format(\"ammu\",25)\n",
    "print(txt1)\n",
    "print(txt2)\n",
    "print(txt3)"
   ]
  },
  {
   "cell_type": "code",
   "execution_count": 15,
   "id": "985a3c3c",
   "metadata": {},
   "outputs": [],
   "source": [
    "#placeholders"
   ]
  },
  {
   "cell_type": "code",
   "execution_count": 16,
   "id": "7d27f651",
   "metadata": {},
   "outputs": [
    {
     "name": "stdout",
     "output_type": "stream",
     "text": [
      "we have 49       chickens.\n"
     ]
    }
   ],
   "source": [
    "#To demonstrate, we insert the number 8 to set the available space for the value to 8 characters.\n",
    "#Use \"<\" to left-align the value:\n",
    "txt=\"we have {:<8} chickens.\"\n",
    "print(txt.format(49))"
   ]
  },
  {
   "cell_type": "code",
   "execution_count": 17,
   "id": "538640c8",
   "metadata": {},
   "outputs": [
    {
     "name": "stdout",
     "output_type": "stream",
     "text": [
      "we have       49 chickens.\n"
     ]
    }
   ],
   "source": [
    "#Use \">\" to right-align the value:\n",
    "txt=\"we have {:>8} chickens.\"\n",
    "print(txt.format(49))"
   ]
  },
  {
   "cell_type": "code",
   "execution_count": 18,
   "id": "e8655153",
   "metadata": {},
   "outputs": [
    {
     "name": "stdout",
     "output_type": "stream",
     "text": [
      "we have    49    chickens.\n"
     ]
    }
   ],
   "source": [
    "#Use \"^\" to center-align the value:\n",
    "txt=\"we have {:^8} chickens.\"\n",
    "print(txt.format(49))"
   ]
  },
  {
   "cell_type": "code",
   "execution_count": 19,
   "id": "53d3690a",
   "metadata": {},
   "outputs": [
    {
     "name": "stdout",
     "output_type": "stream",
     "text": [
      "temperature is  -      5 degrees celsius.\n"
     ]
    }
   ],
   "source": [
    "#To demonstrate, we insert the number 8 to specify the available space for the value.\n",
    "#Use \"=\" to place the plus/minus sign at the left most position:\n",
    "txt=\"temperature is  {:=8} degrees celsius.\"\n",
    "print(txt.format(-5))"
   ]
  },
  {
   "cell_type": "code",
   "execution_count": 20,
   "id": "5f163512",
   "metadata": {},
   "outputs": [
    {
     "name": "stdout",
     "output_type": "stream",
     "text": [
      "temperature is between -3 and +7 degrees celsius.\n"
     ]
    }
   ],
   "source": [
    "#Use \"+\" to always indicate if the number is positive or negative:\n",
    "txt=\"temperature is between {:+} and {:+} degrees celsius.\"\n",
    "print(txt.format(-3,7))"
   ]
  },
  {
   "cell_type": "code",
   "execution_count": 21,
   "id": "9f94edf8",
   "metadata": {},
   "outputs": [
    {
     "name": "stdout",
     "output_type": "stream",
     "text": [
      "temperature is between -3 and 7 degrees celsius.\n"
     ]
    }
   ],
   "source": [
    "#Use \"-\" to always indicate if the number is negative (positive numbers are displayed without any sign):\n",
    "txt=\"temperature is between {:-} and {:-} degrees celsius.\"\n",
    "print(txt.format(-3,7))"
   ]
  },
  {
   "cell_type": "code",
   "execution_count": 22,
   "id": "8a9108ed",
   "metadata": {},
   "outputs": [
    {
     "name": "stdout",
     "output_type": "stream",
     "text": [
      "temperature is between -3 and  7 degrees celsius.\n"
     ]
    }
   ],
   "source": [
    "#Use \" \" (a space) to insert a space before positive numbers and a minus sign before negative numbers:\n",
    "txt=\"temperature is between {: } and {: } degrees celsius.\"\n",
    "print(txt.format(-3,7))"
   ]
  },
  {
   "cell_type": "code",
   "execution_count": 23,
   "id": "7a4b6e19",
   "metadata": {},
   "outputs": [
    {
     "name": "stdout",
     "output_type": "stream",
     "text": [
      "The universe is 13,800,000,000 years old.\n"
     ]
    }
   ],
   "source": [
    "#Use \",\" to add a comma as a thousand separator:\n",
    "txt=\"The universe is {:,} years old.\"\n",
    "print(txt.format(13800000000))"
   ]
  },
  {
   "cell_type": "code",
   "execution_count": 24,
   "id": "61fa77d1",
   "metadata": {},
   "outputs": [
    {
     "name": "stdout",
     "output_type": "stream",
     "text": [
      "The universe is 13_800_000_000 years old.\n"
     ]
    }
   ],
   "source": [
    "#Use \"_\" to add a underscore character as a thousand separator:\n",
    "txt=\"The universe is {:_} years old.\"\n",
    "print(txt.format(13800000000))"
   ]
  },
  {
   "cell_type": "code",
   "execution_count": 27,
   "id": "30ea7c2c",
   "metadata": {},
   "outputs": [
    {
     "name": "stdout",
     "output_type": "stream",
     "text": [
      "The binary version of 5 is 101\n"
     ]
    }
   ],
   "source": [
    "#Use \"b\" to convert the number into binary format:\n",
    "txt=\"The binary version of {0} is {0:b}\"\n",
    "print(txt.format(5))"
   ]
  },
  {
   "cell_type": "code",
   "execution_count": 30,
   "id": "86619503",
   "metadata": {},
   "outputs": [
    {
     "name": "stdout",
     "output_type": "stream",
     "text": [
      "we have 5 chickens\n"
     ]
    }
   ],
   "source": [
    "#Use \"d\" to convert a number, in this case a binary number, into decimal number format:\n",
    "txt=\"we have {:d} chickens\"\n",
    "print(txt.format(0b101))"
   ]
  },
  {
   "cell_type": "code",
   "execution_count": 31,
   "id": "a2d89f10",
   "metadata": {},
   "outputs": [
    {
     "name": "stdout",
     "output_type": "stream",
     "text": [
      "we have 5.000000e+00 chickens\n"
     ]
    }
   ],
   "source": [
    "#Use \"e\" to convert a number into scientific number format (with a lower-case e):\n",
    "txt=\"we have {:e} chickens\"\n",
    "print(txt.format(5))"
   ]
  },
  {
   "cell_type": "code",
   "execution_count": 32,
   "id": "92663016",
   "metadata": {},
   "outputs": [
    {
     "name": "stdout",
     "output_type": "stream",
     "text": [
      "we have 5.000000E+00 chickens\n"
     ]
    }
   ],
   "source": [
    "#Use \"E\" to convert a number into scientific number format (with an upper-case E):\n",
    "txt=\"we have {:E} chickens\"\n",
    "print(txt.format(5))"
   ]
  },
  {
   "cell_type": "code",
   "execution_count": 34,
   "id": "8b5c3e08",
   "metadata": {},
   "outputs": [
    {
     "name": "stdout",
     "output_type": "stream",
     "text": [
      "the price is 45.00 dollars.\n",
      "the price is 45.000000 dollars.\n"
     ]
    }
   ],
   "source": [
    "#Use \"f\" to convert a number into a fixed point number, default with 6 decimals, but use a period followed by a number to specify the number of decimals:\n",
    "txt=\"the price is {:.2f} dollars.\"\n",
    "print(txt.format(45))\n",
    "#without the \".2\" inside the placeholder, this number will be displayed like this:\n",
    "txt=\"the price is {:f} dollars.\"\n",
    "print(txt.format(45))"
   ]
  },
  {
   "cell_type": "code",
   "execution_count": 35,
   "id": "7d486870",
   "metadata": {},
   "outputs": [
    {
     "name": "stdout",
     "output_type": "stream",
     "text": [
      "The price is INF dollars.\n",
      "The price is inf dollars.\n"
     ]
    }
   ],
   "source": [
    "#Use \"F\" to convert a number into a fixed point number, but display inf and nan as INF and NAN:\n",
    "x=float('inf')\n",
    "txt=\"The price is {:F} dollars.\"\n",
    "print(txt.format(x))\n",
    "#same example, but with a lower case f:\n",
    "txt=\"The price is {:f} dollars.\"\n",
    "print(txt.format(x))"
   ]
  },
  {
   "cell_type": "code",
   "execution_count": 36,
   "id": "19177e2b",
   "metadata": {},
   "outputs": [
    {
     "name": "stdout",
     "output_type": "stream",
     "text": [
      "The octal version of 10 is 12\n"
     ]
    }
   ],
   "source": [
    "#Use \"o\" to convert the number into octal format:\n",
    "txt=\"The octal version of {0} is {0:o}\"\n",
    "print(txt.format(10))"
   ]
  },
  {
   "cell_type": "code",
   "execution_count": 37,
   "id": "4f83e420",
   "metadata": {},
   "outputs": [
    {
     "name": "stdout",
     "output_type": "stream",
     "text": [
      "The hexadecimal version of 255 is ff\n"
     ]
    }
   ],
   "source": [
    "#Use \"x\" to convert the number into Hex format:\n",
    "txt=\"The hexadecimal version of {0} is {0:x}\"\n",
    "print(txt.format(255))"
   ]
  },
  {
   "cell_type": "code",
   "execution_count": 38,
   "id": "a53e6616",
   "metadata": {},
   "outputs": [
    {
     "name": "stdout",
     "output_type": "stream",
     "text": [
      "The hexadecimal version of 255 is FF\n"
     ]
    }
   ],
   "source": [
    "#Use \"X\" to convert the number into upper-case Hex format:\n",
    "txt=\"The hexadecimal version of {0} is {0:X}\"\n",
    "print(txt.format(255))"
   ]
  },
  {
   "cell_type": "code",
   "execution_count": 39,
   "id": "6687568a",
   "metadata": {},
   "outputs": [
    {
     "name": "stdout",
     "output_type": "stream",
     "text": [
      "you scored 25.000000%\n"
     ]
    }
   ],
   "source": [
    "#Use \"%\" to convert the number into a percentage format:\n",
    "txt=\"you scored {:%}\"\n",
    "print(txt.format(0.25))"
   ]
  },
  {
   "cell_type": "code",
   "execution_count": 40,
   "id": "1bb3ee43",
   "metadata": {},
   "outputs": [
    {
     "name": "stdout",
     "output_type": "stream",
     "text": [
      "you scored 25%\n"
     ]
    }
   ],
   "source": [
    "#Or, without any decimals:\n",
    "txt=\"you scored {:.0%}\"\n",
    "print(txt.format(0.25))"
   ]
  },
  {
   "cell_type": "markdown",
   "id": "e794c486",
   "metadata": {},
   "source": [
    "# index"
   ]
  },
  {
   "cell_type": "code",
   "execution_count": 41,
   "id": "ea7c8558",
   "metadata": {},
   "outputs": [
    {
     "name": "stdout",
     "output_type": "stream",
     "text": [
      "6\n"
     ]
    }
   ],
   "source": [
    "# Where in the text is the word \"welcome\"?:\n",
    "txt=\"hello,welcome my world.\"\n",
    "x=txt.index(\"welcome\")\n",
    "print(x)"
   ]
  },
  {
   "cell_type": "code",
   "execution_count": 42,
   "id": "f60c0022",
   "metadata": {},
   "outputs": [
    {
     "name": "stdout",
     "output_type": "stream",
     "text": [
      "1\n"
     ]
    }
   ],
   "source": [
    "# Where in the text is the first occurrence of the letter \"e\"?:\n",
    "txt=\"hello,welcome my world.\"\n",
    "x=txt.index(\"e\")\n",
    "print(x)"
   ]
  },
  {
   "cell_type": "code",
   "execution_count": 43,
   "id": "fe9ec4a5",
   "metadata": {},
   "outputs": [
    {
     "name": "stdout",
     "output_type": "stream",
     "text": [
      "7\n"
     ]
    }
   ],
   "source": [
    "# Where in the text is the first occurrence of the letter \"e\" when you only search between position 5 and 10?:\n",
    "txt=\"hello,welcome my world.\"\n",
    "x=txt.index(\"e\",5,10)\n",
    "print(x)"
   ]
  },
  {
   "cell_type": "code",
   "execution_count": 44,
   "id": "cd6b74c7",
   "metadata": {},
   "outputs": [
    {
     "name": "stdout",
     "output_type": "stream",
     "text": [
      "-1\n"
     ]
    },
    {
     "ename": "ValueError",
     "evalue": "substring not found",
     "output_type": "error",
     "traceback": [
      "\u001b[1;31m---------------------------------------------------------------------------\u001b[0m",
      "\u001b[1;31mValueError\u001b[0m                                Traceback (most recent call last)",
      "Input \u001b[1;32mIn [44]\u001b[0m, in \u001b[0;36m<cell line: 4>\u001b[1;34m()\u001b[0m\n\u001b[0;32m      2\u001b[0m txt\u001b[38;5;241m=\u001b[39m\u001b[38;5;124m\"\u001b[39m\u001b[38;5;124mhello,welcome my world.\u001b[39m\u001b[38;5;124m\"\u001b[39m\n\u001b[0;32m      3\u001b[0m \u001b[38;5;28mprint\u001b[39m(txt\u001b[38;5;241m.\u001b[39mfind(\u001b[38;5;124m\"\u001b[39m\u001b[38;5;124mq\u001b[39m\u001b[38;5;124m\"\u001b[39m))\n\u001b[1;32m----> 4\u001b[0m \u001b[38;5;28mprint\u001b[39m(\u001b[43mtxt\u001b[49m\u001b[38;5;241;43m.\u001b[39;49m\u001b[43mindex\u001b[49m\u001b[43m(\u001b[49m\u001b[38;5;124;43m\"\u001b[39;49m\u001b[38;5;124;43mq\u001b[39;49m\u001b[38;5;124;43m\"\u001b[39;49m\u001b[43m)\u001b[49m)\n",
      "\u001b[1;31mValueError\u001b[0m: substring not found"
     ]
    }
   ],
   "source": [
    "# If the value is not found, the find() method returns -1, but the index() method will raise an exception:\n",
    "txt=\"hello,welcome my world.\"\n",
    "print(txt.find(\"q\"))\n",
    "print(txt.index(\"q\"))"
   ]
  },
  {
   "cell_type": "markdown",
   "id": "fad07562",
   "metadata": {},
   "source": [
    "# isalnum"
   ]
  },
  {
   "cell_type": "code",
   "execution_count": 45,
   "id": "1af5f28b",
   "metadata": {},
   "outputs": [
    {
     "name": "stdout",
     "output_type": "stream",
     "text": [
      "True\n"
     ]
    }
   ],
   "source": [
    "# Check if all the characters in the text are alphanumeric:\n",
    "txt=\"company12\"\n",
    "x=txt.isalnum()\n",
    "print(x)"
   ]
  },
  {
   "cell_type": "code",
   "execution_count": 46,
   "id": "290ebb24",
   "metadata": {},
   "outputs": [
    {
     "name": "stdout",
     "output_type": "stream",
     "text": [
      "False\n"
     ]
    }
   ],
   "source": [
    "# Check if all the characters in the text is alphanumeric:\n",
    "txt=\"company  12\"\n",
    "x=txt.isalnum()\n",
    "print(x)"
   ]
  },
  {
   "cell_type": "markdown",
   "id": "dee78635",
   "metadata": {},
   "source": [
    "# isalpha"
   ]
  },
  {
   "cell_type": "code",
   "execution_count": 47,
   "id": "12a0094f",
   "metadata": {},
   "outputs": [
    {
     "name": "stdout",
     "output_type": "stream",
     "text": [
      "True\n"
     ]
    }
   ],
   "source": [
    "# Check if all the characters in the text are letters:\n",
    "txt=\"companyX\"\n",
    "x=txt.isalpha()\n",
    "print(x)"
   ]
  },
  {
   "cell_type": "code",
   "execution_count": 48,
   "id": "e7174d66",
   "metadata": {},
   "outputs": [
    {
     "name": "stdout",
     "output_type": "stream",
     "text": [
      "False\n"
     ]
    }
   ],
   "source": [
    "# Check if all the characters in the text is alphabetic:\n",
    "txt=\"company10\"\n",
    "x=txt.isalpha()\n",
    "print(x)"
   ]
  },
  {
   "cell_type": "markdown",
   "id": "e27399f4",
   "metadata": {},
   "source": [
    "# isascii"
   ]
  },
  {
   "cell_type": "code",
   "execution_count": 49,
   "id": "04984ddd",
   "metadata": {},
   "outputs": [
    {
     "name": "stdout",
     "output_type": "stream",
     "text": [
      "True\n"
     ]
    }
   ],
   "source": [
    "# Check if all the characters in the text are ascii characters:\n",
    "txt=\"company10@\"\n",
    "x=txt.isascii()\n",
    "print(x)"
   ]
  },
  {
   "cell_type": "markdown",
   "id": "9df972b2",
   "metadata": {},
   "source": [
    "# isdecimal"
   ]
  },
  {
   "cell_type": "code",
   "execution_count": 50,
   "id": "44041f27",
   "metadata": {},
   "outputs": [
    {
     "name": "stdout",
     "output_type": "stream",
     "text": [
      "True\n"
     ]
    }
   ],
   "source": [
    "# Check if all the characters in the unicode object are decimals:\n",
    "txt=\"\\u0033\"#unicode for 3\n",
    "x=txt.isdecimal()\n",
    "print(x)"
   ]
  },
  {
   "cell_type": "code",
   "execution_count": 51,
   "id": "5cb8dfac",
   "metadata": {},
   "outputs": [
    {
     "name": "stdout",
     "output_type": "stream",
     "text": [
      "True\n",
      "False\n"
     ]
    }
   ],
   "source": [
    "# Check if all the characters in the unicode are decimals:\n",
    "a=\"\\u0030\"#unicode for 0\n",
    "b=\"\\u0047\"#unicode for G\n",
    "print(a.isdecimal())\n",
    "print(b.isdecimal())"
   ]
  },
  {
   "cell_type": "markdown",
   "id": "7dd1c54e",
   "metadata": {},
   "source": [
    "# isdigit"
   ]
  },
  {
   "cell_type": "code",
   "execution_count": 52,
   "id": "e8036872",
   "metadata": {},
   "outputs": [
    {
     "name": "stdout",
     "output_type": "stream",
     "text": [
      "True\n"
     ]
    }
   ],
   "source": [
    "# Check if all the characters in the text are digits:\n",
    "txt=\"50800\"\n",
    "x=txt.isdigit()\n",
    "print(x)"
   ]
  },
  {
   "cell_type": "code",
   "execution_count": 53,
   "id": "88595edb",
   "metadata": {},
   "outputs": [
    {
     "name": "stdout",
     "output_type": "stream",
     "text": [
      "True\n",
      "True\n"
     ]
    }
   ],
   "source": [
    "# Check if all the characters in the text are digits:\n",
    "a=\"\\u0030\"#unicode for 0\n",
    "b=\"\\u00B2\"#unicode for ²\n",
    "print(a.isdigit())\n",
    "print(b.isdigit())"
   ]
  },
  {
   "cell_type": "markdown",
   "id": "d90e8eda",
   "metadata": {},
   "source": [
    "# isidentifier"
   ]
  },
  {
   "cell_type": "code",
   "execution_count": 55,
   "id": "0aa76f1b",
   "metadata": {},
   "outputs": [
    {
     "name": "stdout",
     "output_type": "stream",
     "text": [
      "True\n"
     ]
    }
   ],
   "source": [
    "# Check if the string is a valid identifier:\n",
    "txt=\"demo\"\n",
    "x=txt.isidentifier()\n",
    "print(x)"
   ]
  },
  {
   "cell_type": "code",
   "execution_count": 57,
   "id": "8568223a",
   "metadata": {},
   "outputs": [
    {
     "name": "stdout",
     "output_type": "stream",
     "text": [
      "True\n",
      "True\n",
      "False\n",
      "False\n"
     ]
    }
   ],
   "source": [
    "# Check if the strings are valid identifiers:\n",
    "a=\"myfOLDer\"\n",
    "b=\"dEMO555\"\n",
    "c=\"55Demo\"\n",
    "d=\"my demo\"\n",
    "print(a.isidentifier())\n",
    "print(b.isidentifier())\n",
    "print(c.isidentifier())\n",
    "print(d.isidentifier())"
   ]
  },
  {
   "cell_type": "markdown",
   "id": "f0f6d5d3",
   "metadata": {},
   "source": [
    "# islower"
   ]
  },
  {
   "cell_type": "code",
   "execution_count": 58,
   "id": "c9088c00",
   "metadata": {},
   "outputs": [
    {
     "name": "stdout",
     "output_type": "stream",
     "text": [
      "True\n"
     ]
    }
   ],
   "source": [
    "# Check if all the characters in the text are in lower case:\n",
    "txt=\"hello world!\"\n",
    "x=txt.islower()\n",
    "print(x)"
   ]
  },
  {
   "cell_type": "code",
   "execution_count": 59,
   "id": "ba4fdefc",
   "metadata": {},
   "outputs": [
    {
     "name": "stdout",
     "output_type": "stream",
     "text": [
      "False\n",
      "True\n",
      "False\n"
     ]
    }
   ],
   "source": [
    "# Check if all the characters in the texts are in lower case:\n",
    "a=\"HELLO world\"\n",
    "b=\"hello 123\"\n",
    "c=\"my nameis Peter\"\n",
    "print(a.islower())\n",
    "print(b.islower())\n",
    "print(c.islower())"
   ]
  },
  {
   "cell_type": "markdown",
   "id": "7f2b2970",
   "metadata": {},
   "source": [
    "# isnumeric"
   ]
  },
  {
   "cell_type": "code",
   "execution_count": 60,
   "id": "4edafe1d",
   "metadata": {},
   "outputs": [
    {
     "name": "stdout",
     "output_type": "stream",
     "text": [
      "True\n"
     ]
    }
   ],
   "source": [
    "# Check if all the characters in the text are numeric:\n",
    "txt=\"587648\"\n",
    "x=txt.isnumeric()\n",
    "print(x)"
   ]
  },
  {
   "cell_type": "code",
   "execution_count": 61,
   "id": "dd9280bf",
   "metadata": {},
   "outputs": [
    {
     "name": "stdout",
     "output_type": "stream",
     "text": [
      "True\n",
      "True\n",
      "False\n",
      "False\n",
      "False\n"
     ]
    }
   ],
   "source": [
    "# Check if the characters are numeric:\n",
    "a=\"\\u0030\" #unicode for 0\n",
    "b=\"\\u00B2\" #unicode for &sup2;\n",
    "c=\"10km2\"\n",
    "d=\"-1\"\n",
    "e=\"1.5\"\n",
    "print(a.isnumeric())\n",
    "print(b.isnumeric())\n",
    "print(c.isnumeric())\n",
    "print(d.isnumeric())\n",
    "print(e.isnumeric())"
   ]
  },
  {
   "cell_type": "markdown",
   "id": "4b299392",
   "metadata": {},
   "source": [
    "# isprintable"
   ]
  },
  {
   "cell_type": "code",
   "execution_count": 62,
   "id": "7127bf3a",
   "metadata": {},
   "outputs": [
    {
     "name": "stdout",
     "output_type": "stream",
     "text": [
      "True\n"
     ]
    }
   ],
   "source": [
    "# Check if all the characters in the text are printable:\n",
    "txt=\"Hello! Are you #1\"\n",
    "x=txt.isprintable()\n",
    "print(x)"
   ]
  },
  {
   "cell_type": "code",
   "execution_count": 63,
   "id": "303aacf1",
   "metadata": {},
   "outputs": [
    {
     "name": "stdout",
     "output_type": "stream",
     "text": [
      "False\n"
     ]
    }
   ],
   "source": [
    "# Check if all the characters in the text are printable:\n",
    "txt=\"Hello!\\n Are you #1\"\n",
    "x=txt.isprintable()\n",
    "print(x)"
   ]
  },
  {
   "cell_type": "markdown",
   "id": "198e1f41",
   "metadata": {},
   "source": [
    "# isspace"
   ]
  },
  {
   "cell_type": "code",
   "execution_count": 64,
   "id": "bda16a80",
   "metadata": {},
   "outputs": [
    {
     "name": "stdout",
     "output_type": "stream",
     "text": [
      "True\n"
     ]
    }
   ],
   "source": [
    "# Check if all the characters in the text are whitespaces:\n",
    "txt=\" \"\n",
    "x=txt.isspace()\n",
    "print(x)"
   ]
  },
  {
   "cell_type": "code",
   "execution_count": 65,
   "id": "b0b175de",
   "metadata": {},
   "outputs": [
    {
     "name": "stdout",
     "output_type": "stream",
     "text": [
      "False\n"
     ]
    }
   ],
   "source": [
    "# Check if all the characters in the text are whitespaces:\n",
    "txt=\" aa\"\n",
    "x=txt.isspace()\n",
    "print(x)"
   ]
  },
  {
   "cell_type": "markdown",
   "id": "491a6f4e",
   "metadata": {},
   "source": [
    "# istitle"
   ]
  },
  {
   "cell_type": "code",
   "execution_count": 66,
   "id": "8169b639",
   "metadata": {},
   "outputs": [
    {
     "name": "stdout",
     "output_type": "stream",
     "text": [
      "True\n"
     ]
    }
   ],
   "source": [
    "# Check if each word start with an upper case letter:\n",
    "txt=\"Hello,And Welcome To My World\"\n",
    "x=txt.istitle()\n",
    "print(x)"
   ]
  },
  {
   "cell_type": "code",
   "execution_count": 67,
   "id": "db98cdcf",
   "metadata": {},
   "outputs": [
    {
     "name": "stdout",
     "output_type": "stream",
     "text": [
      "False\n",
      "True\n",
      "True\n",
      "True\n"
     ]
    }
   ],
   "source": [
    "# Check if each word start with an upper case letter:\n",
    "a=\"HELLO,AND WELCOME TO MY WORLD\"\n",
    "b=\"Hello\"\n",
    "c=\"22 Names\"\n",
    "d=\"This Is %$\"\n",
    "print(a.istitle())\n",
    "print(b.istitle())\n",
    "print(c.istitle())\n",
    "print(d.istitle())"
   ]
  },
  {
   "cell_type": "markdown",
   "id": "f6231c21",
   "metadata": {},
   "source": [
    "# isupper"
   ]
  },
  {
   "cell_type": "code",
   "execution_count": 1,
   "id": "3b4632fe",
   "metadata": {},
   "outputs": [
    {
     "name": "stdout",
     "output_type": "stream",
     "text": [
      "True\n"
     ]
    }
   ],
   "source": [
    "# Check if all the characters in the text are in upper case:\n",
    "txt=\"THIS IS NOW!\"\n",
    "x=txt.isupper()\n",
    "print(x)"
   ]
  },
  {
   "cell_type": "code",
   "execution_count": 2,
   "id": "09f3c30a",
   "metadata": {},
   "outputs": [
    {
     "name": "stdout",
     "output_type": "stream",
     "text": [
      "False\n",
      "False\n",
      "True\n"
     ]
    }
   ],
   "source": [
    "# Check if all the characters in the texts are in upper case:\n",
    "a=\"Hello World\"\n",
    "b=\"hell0 123\"\n",
    "c=\"MY NAME IS PETER\"\n",
    "print(a.isupper())\n",
    "print(b.isupper())\n",
    "print(c.isupper())"
   ]
  },
  {
   "cell_type": "markdown",
   "id": "889ca5db",
   "metadata": {},
   "source": [
    "# join"
   ]
  },
  {
   "cell_type": "code",
   "execution_count": 3,
   "id": "6103b57e",
   "metadata": {},
   "outputs": [
    {
     "name": "stdout",
     "output_type": "stream",
     "text": [
      "John#Peter#Vicky\n"
     ]
    }
   ],
   "source": [
    "# Join all items in a tuple into a string, using a hash character as separator:\n",
    "myTuple=(\"John\",\"Peter\",\"Vicky\")\n",
    "x=\"#\".join(myTuple)\n",
    "print(x)"
   ]
  },
  {
   "cell_type": "code",
   "execution_count": 5,
   "id": "06c970d9",
   "metadata": {},
   "outputs": [
    {
     "name": "stdout",
     "output_type": "stream",
     "text": [
      "nameTESTcountry\n"
     ]
    }
   ],
   "source": [
    "# Join all items in a dictionary into a string, using the word \"TEST\" as separator:\n",
    "myDict={\"name\":\"John\",\"country\":\"Norway\"}\n",
    "mySeperator=\"TEST\"\n",
    "x=mySeperator.join(myDict)\n",
    "print(x)"
   ]
  },
  {
   "cell_type": "markdown",
   "id": "1e345743",
   "metadata": {},
   "source": [
    "# ljust"
   ]
  },
  {
   "cell_type": "code",
   "execution_count": 8,
   "id": "e37fc9f5",
   "metadata": {},
   "outputs": [
    {
     "name": "stdout",
     "output_type": "stream",
     "text": [
      "banana               is my favorite fruit\n"
     ]
    }
   ],
   "source": [
    "# Return a 20 characters long, left justified version of the word \"banana\":\n",
    "txt=\"banana\"\n",
    "x=txt.ljust(20)\n",
    "print(x,\"is my favorite fruit\")"
   ]
  },
  {
   "cell_type": "code",
   "execution_count": 7,
   "id": "011a1580",
   "metadata": {},
   "outputs": [
    {
     "name": "stdout",
     "output_type": "stream",
     "text": [
      "bananaoooooooooooooo\n"
     ]
    }
   ],
   "source": [
    "# Using the letter \"O\" as the padding character:\n",
    "txt=\"banana\"\n",
    "x=txt.ljust(20,\"o\")\n",
    "print(x)"
   ]
  },
  {
   "cell_type": "markdown",
   "id": "27798731",
   "metadata": {},
   "source": [
    "# lower"
   ]
  },
  {
   "cell_type": "code",
   "execution_count": 9,
   "id": "ba82e586",
   "metadata": {},
   "outputs": [
    {
     "name": "stdout",
     "output_type": "stream",
     "text": [
      "hello my friends\n"
     ]
    }
   ],
   "source": [
    "# Lower case the string:\n",
    "txt=\"Hello my FRIENDS\"\n",
    "x=txt.lower()\n",
    "print(x)"
   ]
  },
  {
   "cell_type": "markdown",
   "id": "3976e02b",
   "metadata": {},
   "source": [
    "# lstrip"
   ]
  },
  {
   "cell_type": "code",
   "execution_count": 10,
   "id": "0aefa4b9",
   "metadata": {},
   "outputs": [
    {
     "name": "stdout",
     "output_type": "stream",
     "text": [
      "of all fruits banana      is my favorite\n"
     ]
    }
   ],
   "source": [
    "# Remove spaces to the left of the string:\n",
    "txt=\"     banana     \"\n",
    "x=txt.lstrip()\n",
    "print(\"of all fruits\",x,\"is my favorite\")"
   ]
  },
  {
   "cell_type": "code",
   "execution_count": 11,
   "id": "f7478125",
   "metadata": {},
   "outputs": [
    {
     "name": "stdout",
     "output_type": "stream",
     "text": [
      "banana\n"
     ]
    }
   ],
   "source": [
    "# Remove the leading characters:\n",
    "txt=\",,,,ssaaww.....banana\"\n",
    "x=txt.lstrip(\",..asw\")\n",
    "print(x)"
   ]
  },
  {
   "cell_type": "markdown",
   "id": "e6a0e57d",
   "metadata": {},
   "source": [
    "# maketrans"
   ]
  },
  {
   "cell_type": "code",
   "execution_count": 12,
   "id": "29b69abc",
   "metadata": {},
   "outputs": [
    {
     "name": "stdout",
     "output_type": "stream",
     "text": [
      "Hello Pam!\n"
     ]
    }
   ],
   "source": [
    "# Create a mapping table, and use it in the translate() method to replace any \"S\" characters with a \"P\" character:\n",
    "txt=\"Hello Sam!\"\n",
    "mytable=txt.maketrans(\"S\",\"P\")\n",
    "print(txt.translate(mytable))"
   ]
  },
  {
   "cell_type": "code",
   "execution_count": 13,
   "id": "e2c6f71a",
   "metadata": {},
   "outputs": [
    {
     "name": "stdout",
     "output_type": "stream",
     "text": [
      "Hi Joe!\n"
     ]
    }
   ],
   "source": [
    "# Use a mapping table to replace many characters:\n",
    "txt=\"Hi Sam!\"\n",
    "x=\"mSa\"\n",
    "y=\"eJo\"\n",
    "mytable=txt.maketrans(x,y)\n",
    "print(txt.translate(mytable))"
   ]
  },
  {
   "cell_type": "code",
   "execution_count": 14,
   "id": "1cd711aa",
   "metadata": {},
   "outputs": [
    {
     "name": "stdout",
     "output_type": "stream",
     "text": [
      "G i Joe!\n"
     ]
    }
   ],
   "source": [
    "# The third parameter in the mapping table describes characters that you want to remove from the string:\n",
    "txt=\"Good night Sam!\"\n",
    "x=\"mSa\"\n",
    "y=\"eJo\"\n",
    "z=\"odnght\"\n",
    "mytable=txt.maketrans(x,y,z)\n",
    "print(txt.translate(mytable))"
   ]
  },
  {
   "cell_type": "code",
   "execution_count": 15,
   "id": "33ef0869",
   "metadata": {},
   "outputs": [
    {
     "name": "stdout",
     "output_type": "stream",
     "text": [
      "{109: 101, 83: 74, 97: 111, 111: None, 100: None, 110: None, 103: None, 104: None, 116: None}\n"
     ]
    }
   ],
   "source": [
    "# The maketrans() method itself returns a dictionary describing each replacement, in unicode:\n",
    "txt=\"Good night Sam!\"\n",
    "x=\"mSa\"\n",
    "y=\"eJo\"\n",
    "z=\"odnght\"\n",
    "print(txt.maketrans(x,y,z))"
   ]
  },
  {
   "cell_type": "markdown",
   "id": "0d2f13e6",
   "metadata": {},
   "source": [
    "# partition"
   ]
  },
  {
   "cell_type": "code",
   "execution_count": 16,
   "id": "438fb586",
   "metadata": {},
   "outputs": [
    {
     "name": "stdout",
     "output_type": "stream",
     "text": [
      "('I could eat ', 'bananas', ' all day')\n"
     ]
    }
   ],
   "source": [
    "# Search for the word \"bananas\", and return a tuple with three elements:\n",
    "\n",
    "# 1 - everything before the \"match\"\n",
    "# 2 - the \"match\"\n",
    "# 3 - everything after the \"match\"\n",
    "txt=\"I could eat bananas all day\"\n",
    "x=txt.partition(\"bananas\")\n",
    "print(x)"
   ]
  },
  {
   "cell_type": "code",
   "execution_count": 17,
   "id": "af0c1713",
   "metadata": {},
   "outputs": [
    {
     "name": "stdout",
     "output_type": "stream",
     "text": [
      "('I could eat bananas all day', '', '')\n"
     ]
    }
   ],
   "source": [
    "# If the specified value is not found, the partition() method returns a tuple containing: 1 - the whole string, 2 - an empty string, 3 - an empty string:\n",
    "txt=\"I could eat bananas all day\"\n",
    "x=txt.partition(\"apples\")\n",
    "print(x)"
   ]
  },
  {
   "cell_type": "markdown",
   "id": "51f91e21",
   "metadata": {},
   "source": [
    "# replace"
   ]
  },
  {
   "cell_type": "code",
   "execution_count": 18,
   "id": "63b5e737",
   "metadata": {},
   "outputs": [
    {
     "name": "stdout",
     "output_type": "stream",
     "text": [
      "I like apples\n"
     ]
    }
   ],
   "source": [
    "# Replace the word \"bananas\":\n",
    "txt=\"I like bananas\"\n",
    "x=txt.replace(\"bananas\",\"apples\")\n",
    "print(x)"
   ]
  },
  {
   "cell_type": "code",
   "execution_count": 19,
   "id": "1065ab18",
   "metadata": {},
   "outputs": [
    {
     "name": "stdout",
     "output_type": "stream",
     "text": [
      "three three was a race horse, two two was three  too.\n"
     ]
    }
   ],
   "source": [
    "# Replace all occurrence of the word \"one\":\n",
    "txt=\"one one was a race horse, two two was one  too.\"\n",
    "x=txt.replace(\"one\",\"three\")\n",
    "print(x)"
   ]
  },
  {
   "cell_type": "code",
   "execution_count": 20,
   "id": "a64b4597",
   "metadata": {},
   "outputs": [
    {
     "name": "stdout",
     "output_type": "stream",
     "text": [
      "three three was a race horse, two two was one  too.\n"
     ]
    }
   ],
   "source": [
    "# Replace the two first occurrence of the word \"one\":\n",
    "txt=\"one one was a race horse, two two was one  too.\"\n",
    "x=txt.replace(\"one\",\"three\",2)\n",
    "print(x)"
   ]
  },
  {
   "cell_type": "markdown",
   "id": "7a6d5e02",
   "metadata": {},
   "source": [
    "# rfind"
   ]
  },
  {
   "cell_type": "code",
   "execution_count": 22,
   "id": "4da427bf",
   "metadata": {},
   "outputs": [
    {
     "name": "stdout",
     "output_type": "stream",
     "text": [
      "12\n"
     ]
    }
   ],
   "source": [
    "# Where in the text is the last occurrence of the string \"casa\"?:\n",
    "txt=\"Mi casa, su casa.\"\n",
    "x=txt.rfind(\"casa\")\n",
    "print(x)"
   ]
  },
  {
   "cell_type": "code",
   "execution_count": 23,
   "id": "ddd10b0f",
   "metadata": {},
   "outputs": [
    {
     "name": "stdout",
     "output_type": "stream",
     "text": [
      "13\n"
     ]
    }
   ],
   "source": [
    "# Where in the text is the last occurrence of the letter \"e\"?:\n",
    "txt=\"Hello, welcome to my world.\"\n",
    "x=txt.rfind(\"e\")\n",
    "print(x)"
   ]
  },
  {
   "cell_type": "code",
   "execution_count": 24,
   "id": "97041b5e",
   "metadata": {},
   "outputs": [
    {
     "name": "stdout",
     "output_type": "stream",
     "text": [
      "8\n"
     ]
    }
   ],
   "source": [
    "# Where in the text is the last occurrence of the letter \"e\" when you only search between position 5 and 10?:\n",
    "txt=\"Hello, welcome to my world.\"\n",
    "x=txt.rfind(\"e\",5,10)\n",
    "print(x)"
   ]
  },
  {
   "cell_type": "code",
   "execution_count": 25,
   "id": "d12a357e",
   "metadata": {},
   "outputs": [
    {
     "name": "stdout",
     "output_type": "stream",
     "text": [
      "-1\n"
     ]
    },
    {
     "ename": "ValueError",
     "evalue": "substring not found",
     "output_type": "error",
     "traceback": [
      "\u001b[1;31m---------------------------------------------------------------------------\u001b[0m",
      "\u001b[1;31mValueError\u001b[0m                                Traceback (most recent call last)",
      "Input \u001b[1;32mIn [25]\u001b[0m, in \u001b[0;36m<cell line: 4>\u001b[1;34m()\u001b[0m\n\u001b[0;32m      2\u001b[0m txt\u001b[38;5;241m=\u001b[39m\u001b[38;5;124m\"\u001b[39m\u001b[38;5;124mHello, welcome to my world.\u001b[39m\u001b[38;5;124m\"\u001b[39m\n\u001b[0;32m      3\u001b[0m \u001b[38;5;28mprint\u001b[39m(txt\u001b[38;5;241m.\u001b[39mrfind(\u001b[38;5;124m\"\u001b[39m\u001b[38;5;124mq\u001b[39m\u001b[38;5;124m\"\u001b[39m))\n\u001b[1;32m----> 4\u001b[0m \u001b[38;5;28mprint\u001b[39m(\u001b[43mtxt\u001b[49m\u001b[38;5;241;43m.\u001b[39;49m\u001b[43mrindex\u001b[49m\u001b[43m(\u001b[49m\u001b[38;5;124;43m\"\u001b[39;49m\u001b[38;5;124;43mq\u001b[39;49m\u001b[38;5;124;43m\"\u001b[39;49m\u001b[43m)\u001b[49m)\n",
      "\u001b[1;31mValueError\u001b[0m: substring not found"
     ]
    }
   ],
   "source": [
    "# If the value is not found, the rfind() method returns -1, but the rindex() method will raise an exception:\n",
    "txt=\"Hello, welcome to my world.\"\n",
    "print(txt.rfind(\"q\"))\n",
    "print(txt.rindex(\"q\"))\n",
    "\n"
   ]
  },
  {
   "cell_type": "markdown",
   "id": "7eac4e5a",
   "metadata": {},
   "source": [
    "# rindex"
   ]
  },
  {
   "cell_type": "code",
   "execution_count": 26,
   "id": "0705ea77",
   "metadata": {},
   "outputs": [
    {
     "name": "stdout",
     "output_type": "stream",
     "text": [
      "12\n"
     ]
    }
   ],
   "source": [
    "# Where in the text is the last occurrence of the string \"casa\"?:\n",
    "txt=\"Mi casa, su casa.\"\n",
    "x=txt.rindex(\"casa\")\n",
    "print(x)"
   ]
  },
  {
   "cell_type": "code",
   "execution_count": 27,
   "id": "699e34b0",
   "metadata": {},
   "outputs": [
    {
     "name": "stdout",
     "output_type": "stream",
     "text": [
      "13\n"
     ]
    }
   ],
   "source": [
    "# Where in the text is the last occurrence of the letter \"e\"?:\n",
    "txt=\"Hello, welcome to my world.\"\n",
    "x=txt.rindex(\"e\")\n",
    "print(x)"
   ]
  },
  {
   "cell_type": "code",
   "execution_count": 28,
   "id": "6fc3374e",
   "metadata": {},
   "outputs": [
    {
     "name": "stdout",
     "output_type": "stream",
     "text": [
      "8\n"
     ]
    }
   ],
   "source": [
    "# Where in the text is the last occurrence of the letter \"e\" when you only search between position 5 and 10?:\n",
    "txt=\"Hello, welcome to my world.\"\n",
    "x=txt.rindex(\"e\",5,10)\n",
    "print(x)"
   ]
  },
  {
   "cell_type": "code",
   "execution_count": 29,
   "id": "69986ec1",
   "metadata": {
    "scrolled": true
   },
   "outputs": [
    {
     "name": "stdout",
     "output_type": "stream",
     "text": [
      "-1\n"
     ]
    },
    {
     "ename": "ValueError",
     "evalue": "substring not found",
     "output_type": "error",
     "traceback": [
      "\u001b[1;31m---------------------------------------------------------------------------\u001b[0m",
      "\u001b[1;31mValueError\u001b[0m                                Traceback (most recent call last)",
      "Input \u001b[1;32mIn [29]\u001b[0m, in \u001b[0;36m<cell line: 4>\u001b[1;34m()\u001b[0m\n\u001b[0;32m      2\u001b[0m txt\u001b[38;5;241m=\u001b[39m\u001b[38;5;124m\"\u001b[39m\u001b[38;5;124mHello, welcome to my world.\u001b[39m\u001b[38;5;124m\"\u001b[39m\n\u001b[0;32m      3\u001b[0m \u001b[38;5;28mprint\u001b[39m(txt\u001b[38;5;241m.\u001b[39mrfind(\u001b[38;5;124m\"\u001b[39m\u001b[38;5;124mq\u001b[39m\u001b[38;5;124m\"\u001b[39m))\n\u001b[1;32m----> 4\u001b[0m \u001b[38;5;28mprint\u001b[39m(\u001b[43mtxt\u001b[49m\u001b[38;5;241;43m.\u001b[39;49m\u001b[43mrindex\u001b[49m\u001b[43m(\u001b[49m\u001b[38;5;124;43m\"\u001b[39;49m\u001b[38;5;124;43mq\u001b[39;49m\u001b[38;5;124;43m\"\u001b[39;49m\u001b[43m)\u001b[49m)\n",
      "\u001b[1;31mValueError\u001b[0m: substring not found"
     ]
    }
   ],
   "source": [
    "# If the value is not found, the rfind() method returns -1, but the rindex() method will raise an exception:\n",
    "txt=\"Hello, welcome to my world.\"\n",
    "print(txt.rfind(\"q\"))\n",
    "print(txt.rindex(\"q\"))\n"
   ]
  },
  {
   "cell_type": "markdown",
   "id": "573d98a5",
   "metadata": {},
   "source": [
    "# rjust"
   ]
  },
  {
   "cell_type": "code",
   "execution_count": 30,
   "id": "02a085a4",
   "metadata": {},
   "outputs": [
    {
     "name": "stdout",
     "output_type": "stream",
     "text": [
      "              banana is my favorite fruit.\n"
     ]
    }
   ],
   "source": [
    "# Return a 20 characters long, right justified version of the word \"banana\":\n",
    "txt=\"banana\"\n",
    "x=txt.rjust(20)\n",
    "print(x,\"is my favorite fruit.\")"
   ]
  },
  {
   "cell_type": "markdown",
   "id": "a8df277c",
   "metadata": {},
   "source": [
    "In the result, there are actually 14 whitespaces to the left of the word banana."
   ]
  },
  {
   "cell_type": "code",
   "execution_count": 31,
   "id": "5cd12078",
   "metadata": {},
   "outputs": [
    {
     "name": "stdout",
     "output_type": "stream",
     "text": [
      "OOOOOOOOOOOOOObanana\n"
     ]
    }
   ],
   "source": [
    "# Using the letter \"O\" as the padding character:\n",
    "txt=\"banana\"\n",
    "x=txt.rjust(20,\"O\")\n",
    "print(x)"
   ]
  },
  {
   "cell_type": "markdown",
   "id": "ff5d8473",
   "metadata": {},
   "source": [
    "# rpartition"
   ]
  },
  {
   "cell_type": "code",
   "execution_count": 32,
   "id": "16fa8c5c",
   "metadata": {},
   "outputs": [
    {
     "name": "stdout",
     "output_type": "stream",
     "text": [
      "('I could eat bananas all day, ', 'bananas', ' are my favorite fruit')\n"
     ]
    }
   ],
   "source": [
    "# Search for the last occurrence of the word \"bananas\", and return a tuple with three elements:\n",
    "\n",
    "# 1 - everything before the \"match\"\n",
    "# 2 - the \"match\"\n",
    "# 3 - everything after the \"match\"\n",
    "txt=\"I could eat bananas all day, bananas are my favorite fruit\"\n",
    "x=txt.rpartition(\"bananas\")\n",
    "print(x)"
   ]
  },
  {
   "cell_type": "code",
   "execution_count": 33,
   "id": "8a352f58",
   "metadata": {},
   "outputs": [
    {
     "name": "stdout",
     "output_type": "stream",
     "text": [
      "('', '', 'I could eat bananas all day, bananas are my favorite fruit')\n"
     ]
    }
   ],
   "source": [
    "# If the specified value is not found, the rpartition() method returns a tuple containing: 1 - an empty string, 2 - an empty string, 3 - the whole string:\n",
    "txt=\"I could eat bananas all day, bananas are my favorite fruit\"\n",
    "x=txt.rpartition(\"apples\")\n",
    "print(x)"
   ]
  },
  {
   "cell_type": "markdown",
   "id": "d0351ff2",
   "metadata": {},
   "source": [
    "# rsplit"
   ]
  },
  {
   "cell_type": "code",
   "execution_count": 34,
   "id": "f575e199",
   "metadata": {},
   "outputs": [
    {
     "name": "stdout",
     "output_type": "stream",
     "text": [
      "['apple', 'banana', 'cherry']\n"
     ]
    }
   ],
   "source": [
    "# Split a string into a list, using comma, followed by a space (, ) as the separator:\n",
    "txt=\"apple,banana,cherry\"\n",
    "x=txt.rsplit(\",\")\n",
    "print(x)"
   ]
  },
  {
   "cell_type": "code",
   "execution_count": 35,
   "id": "ff4a7d61",
   "metadata": {},
   "outputs": [
    {
     "name": "stdout",
     "output_type": "stream",
     "text": [
      "['apple, banana', 'cherry']\n"
     ]
    }
   ],
   "source": [
    "# Split the string into a list with maximum 2 items:\n",
    "txt= \"apple, banana, cherry\"\n",
    "# setting the maxsplit parameter to 1, will return a list with 2 elements!\n",
    "x=txt.rsplit(\", \",1)\n",
    "print(x)"
   ]
  },
  {
   "cell_type": "markdown",
   "id": "3da0922a",
   "metadata": {},
   "source": [
    "# rstrip"
   ]
  },
  {
   "cell_type": "code",
   "execution_count": 36,
   "id": "0502935b",
   "metadata": {},
   "outputs": [
    {
     "name": "stdout",
     "output_type": "stream",
     "text": [
      "of all fruits    banana is my favorite\n"
     ]
    }
   ],
   "source": [
    "# Remove any white spaces at the end of the string:\n",
    "txt= \"   banana    \"\n",
    "x=txt.rstrip()\n",
    "print(\"of all fruits\",x,\"is my favorite\")"
   ]
  },
  {
   "cell_type": "code",
   "execution_count": 37,
   "id": "3fd7b6a0",
   "metadata": {},
   "outputs": [
    {
     "name": "stdout",
     "output_type": "stream",
     "text": [
      "banana\n"
     ]
    }
   ],
   "source": [
    "# Remove the trailing characters if they are commas, s, q, or w:\n",
    "txt=\"banana,,,,ssqqqww.....\"\n",
    "x=txt.rstrip(\",.qsw\")\n",
    "print(x)"
   ]
  },
  {
   "cell_type": "markdown",
   "id": "7f3c0f6c",
   "metadata": {},
   "source": [
    "# split"
   ]
  },
  {
   "cell_type": "code",
   "execution_count": 38,
   "id": "b9d755eb",
   "metadata": {},
   "outputs": [
    {
     "name": "stdout",
     "output_type": "stream",
     "text": [
      "['welcome', 'to', 'the', 'jungle']\n"
     ]
    }
   ],
   "source": [
    "# Split a string into a list where each word is a list item:\n",
    "txt=\"welcome to the jungle\"\n",
    "x=txt.split()\n",
    "print(x)"
   ]
  },
  {
   "cell_type": "code",
   "execution_count": 40,
   "id": "eaea5c9a",
   "metadata": {},
   "outputs": [
    {
     "name": "stdout",
     "output_type": "stream",
     "text": [
      "['hello', 'my name is peter', 'I am 26 years old']\n"
     ]
    }
   ],
   "source": [
    "# Split the string, using comma, followed by a space, as a separator:\n",
    "txt=\"hello, my name is peter, I am 26 years old\"\n",
    "x=txt.split(\", \")\n",
    "print(x)"
   ]
  },
  {
   "cell_type": "code",
   "execution_count": 42,
   "id": "d3517bd1",
   "metadata": {},
   "outputs": [
    {
     "name": "stdout",
     "output_type": "stream",
     "text": [
      "['apple', 'banana', 'cherry', 'orange']\n"
     ]
    }
   ],
   "source": [
    "# Use a hash character as a separator:\n",
    "txt=\"apple#banana#cherry#orange\"\n",
    "x=txt.split(\"#\")\n",
    "print(x)"
   ]
  },
  {
   "cell_type": "code",
   "execution_count": 43,
   "id": "31d31013",
   "metadata": {},
   "outputs": [
    {
     "name": "stdout",
     "output_type": "stream",
     "text": [
      "['apple', 'banana#cherry#orange']\n"
     ]
    }
   ],
   "source": [
    "# Split the string into a list with max 2 items:\n",
    "txt=\"apple#banana#cherry#orange\"\n",
    "# setting the maxsplit parameter to 1, will return a list with 2 elements!\n",
    "x=txt.split(\"#\",1)\n",
    "print(x)"
   ]
  },
  {
   "cell_type": "markdown",
   "id": "0aa7dc63",
   "metadata": {},
   "source": [
    "# splitlines"
   ]
  },
  {
   "cell_type": "code",
   "execution_count": 44,
   "id": "6cf6ee8b",
   "metadata": {},
   "outputs": [
    {
     "name": "stdout",
     "output_type": "stream",
     "text": [
      "['Thank you for the music', 'Welcome to the jungle']\n"
     ]
    }
   ],
   "source": [
    "# Split a string into a list where each line is a list item:\n",
    "txt=\"Thank you for the music\\nWelcome to the jungle\"\n",
    "x=txt.splitlines()\n",
    "print(x)"
   ]
  },
  {
   "cell_type": "code",
   "execution_count": 45,
   "id": "36d22250",
   "metadata": {},
   "outputs": [
    {
     "name": "stdout",
     "output_type": "stream",
     "text": [
      "['Thank you for the music\\n', 'Welcome to the jungle']\n"
     ]
    }
   ],
   "source": [
    "# Split the string, but keep the line breaks:\n",
    "txt=\"Thank you for the music\\nWelcome to the jungle\"\n",
    "x=txt.splitlines(True)\n",
    "print(x)"
   ]
  },
  {
   "cell_type": "markdown",
   "id": "f7a5351e",
   "metadata": {},
   "source": [
    "# startswith"
   ]
  },
  {
   "cell_type": "code",
   "execution_count": 46,
   "id": "3c2eebfd",
   "metadata": {},
   "outputs": [
    {
     "name": "stdout",
     "output_type": "stream",
     "text": [
      "True\n"
     ]
    }
   ],
   "source": [
    "# Check if the string starts with \"Hello\":\n",
    "txt=\"Hello, welcome to my world.\"\n",
    "x=txt.startswith(\"Hello\")\n",
    "print(x)"
   ]
  },
  {
   "cell_type": "code",
   "execution_count": 47,
   "id": "59e3ad88",
   "metadata": {},
   "outputs": [
    {
     "name": "stdout",
     "output_type": "stream",
     "text": [
      "True\n"
     ]
    }
   ],
   "source": [
    "# Check if position 7 to 20 starts with the characters \"wel\":\n",
    "txt=\"Hello, welcome to my world.\"\n",
    "x=txt.startswith(\"wel\",7,20)\n",
    "print(x)"
   ]
  },
  {
   "cell_type": "markdown",
   "id": "edb36daa",
   "metadata": {},
   "source": [
    "# strip"
   ]
  },
  {
   "cell_type": "code",
   "execution_count": 49,
   "id": "80a74ad4",
   "metadata": {},
   "outputs": [
    {
     "name": "stdout",
     "output_type": "stream",
     "text": [
      "of all fruits banana is my favorite\n"
     ]
    }
   ],
   "source": [
    "# Remove spaces at the beginning and at the end of the string:\n",
    "txt=\"   banana     \"\n",
    "x=txt.strip()\n",
    "print(\"of all fruits\",x, \"is my favorite\")"
   ]
  },
  {
   "cell_type": "code",
   "execution_count": 50,
   "id": "d7469472",
   "metadata": {},
   "outputs": [
    {
     "name": "stdout",
     "output_type": "stream",
     "text": [
      "banana\n"
     ]
    }
   ],
   "source": [
    "# Remove the leading and trailing characters:\n",
    "txt=\",,,,,,rrttggg....banana....rrr\"\n",
    "x=txt.strip(\",.grt\")\n",
    "print(x)"
   ]
  },
  {
   "cell_type": "markdown",
   "id": "0d44961b",
   "metadata": {},
   "source": [
    "# swapcase"
   ]
  },
  {
   "cell_type": "code",
   "execution_count": 51,
   "id": "629f449a",
   "metadata": {},
   "outputs": [
    {
     "name": "stdout",
     "output_type": "stream",
     "text": [
      "hELLO mY nAME iS peter\n"
     ]
    }
   ],
   "source": [
    "# Make the lower case letters upper case and the upper case letters lower case:\n",
    "txt=\"Hello My Name Is PETER\"\n",
    "x=txt.swapcase()\n",
    "print(x)"
   ]
  },
  {
   "cell_type": "markdown",
   "id": "c390c987",
   "metadata": {},
   "source": [
    "# title"
   ]
  },
  {
   "cell_type": "code",
   "execution_count": 52,
   "id": "3f8b70cf",
   "metadata": {},
   "outputs": [
    {
     "name": "stdout",
     "output_type": "stream",
     "text": [
      "Welcome To My World\n"
     ]
    }
   ],
   "source": [
    "# Make the first letter in each word upper case:\n",
    "txt=\"Welcome to my world\"\n",
    "x=txt.title()\n",
    "print(x)"
   ]
  },
  {
   "cell_type": "code",
   "execution_count": 53,
   "id": "b1f8459a",
   "metadata": {},
   "outputs": [
    {
     "name": "stdout",
     "output_type": "stream",
     "text": [
      "Welcome To My 2Nd World\n"
     ]
    }
   ],
   "source": [
    "# Make the first letter in each word upper case:\n",
    "txt=\"Welcome to my 2nd world\"\n",
    "x=txt.title()\n",
    "print(x)"
   ]
  },
  {
   "cell_type": "code",
   "execution_count": 54,
   "id": "86a62b14",
   "metadata": {},
   "outputs": [
    {
     "name": "stdout",
     "output_type": "stream",
     "text": [
      "Hello B2B2B2 And 3G3G3G\n"
     ]
    }
   ],
   "source": [
    "# Note that the first letter after a non-alphabet letter is converted into a upper case letter:\n",
    "txt=\"hello b2b2b2 and 3g3g3g\"\n",
    "x=txt.title()\n",
    "print(x)"
   ]
  },
  {
   "cell_type": "markdown",
   "id": "59eb636f",
   "metadata": {},
   "source": [
    "# translate"
   ]
  },
  {
   "cell_type": "code",
   "execution_count": 55,
   "id": "85aeaeb9",
   "metadata": {},
   "outputs": [
    {
     "name": "stdout",
     "output_type": "stream",
     "text": [
      "Hello Pam!\n"
     ]
    }
   ],
   "source": [
    "# Replace any \"S\" characters with a \"P\" character:\n",
    "#use a dictionary with ascii codes to replace 83 (S) with 80 (P):\n",
    "mydict={83: 80}\n",
    "txt=\"Hello Sam!\"\n",
    "print(txt.translate(mydict))"
   ]
  },
  {
   "cell_type": "code",
   "execution_count": 56,
   "id": "15a238ca",
   "metadata": {},
   "outputs": [
    {
     "name": "stdout",
     "output_type": "stream",
     "text": [
      "Hello Pam!\n"
     ]
    }
   ],
   "source": [
    "# Use a mapping table to replace \"S\" with \"P\":\n",
    "txt=\"Hello Sam!\"\n",
    "mytable=txt.maketrans(\"S\",\"P\")\n",
    "print(txt.translate(mytable))"
   ]
  },
  {
   "cell_type": "code",
   "execution_count": 57,
   "id": "26b92f11",
   "metadata": {},
   "outputs": [
    {
     "name": "stdout",
     "output_type": "stream",
     "text": [
      "Hi Joe!\n"
     ]
    }
   ],
   "source": [
    "# Use a mapping table to replace many characters:\n",
    "txt=\"Hi Sam!\"\n",
    "x=\"mSa\"\n",
    "y=\"eJo\"\n",
    "mytable=txt.maketrans(x,y)\n",
    "print(txt.translate(mytable))"
   ]
  },
  {
   "cell_type": "code",
   "execution_count": 59,
   "id": "e94cebe7",
   "metadata": {},
   "outputs": [
    {
     "name": "stdout",
     "output_type": "stream",
     "text": [
      "G i Joe!\n"
     ]
    }
   ],
   "source": [
    "# The third parameter in the mapping table describes characters that you want to remove from the string:\n",
    "txt=\"Good night Sam!\"\n",
    "x=\"mSa\"\n",
    "y=\"eJo\"\n",
    "z=\"odnght\"\n",
    "mytable=txt.maketrans(x,y,z)\n",
    "print(txt.translate(mytable))"
   ]
  },
  {
   "cell_type": "code",
   "execution_count": 60,
   "id": "b89c2563",
   "metadata": {},
   "outputs": [
    {
     "name": "stdout",
     "output_type": "stream",
     "text": [
      "G i Joe!\n"
     ]
    }
   ],
   "source": [
    "# The same example as above, but using a dictionary instead of a mapping table:\n",
    "txt=\"Good night Sam!\"\n",
    "mydict={109:101,83:74,97:111,111:None,100:None,110:None,103:None,104:None,116:None}\n",
    "print(txt.translate(mydict))"
   ]
  },
  {
   "cell_type": "markdown",
   "id": "a6a4501c",
   "metadata": {},
   "source": [
    "# upper"
   ]
  },
  {
   "cell_type": "code",
   "execution_count": 61,
   "id": "4eb9d895",
   "metadata": {},
   "outputs": [
    {
     "name": "stdout",
     "output_type": "stream",
     "text": [
      "HELLO MY FRIENDS\n"
     ]
    }
   ],
   "source": [
    "# Upper case the string:\n",
    "txt=\"Hello my friends\"\n",
    "x=txt.upper()\n",
    "print(x)"
   ]
  },
  {
   "cell_type": "markdown",
   "id": "779b07a2",
   "metadata": {},
   "source": [
    "# zfill"
   ]
  },
  {
   "cell_type": "code",
   "execution_count": 62,
   "id": "01ac9852",
   "metadata": {},
   "outputs": [
    {
     "name": "stdout",
     "output_type": "stream",
     "text": [
      "0000000050\n"
     ]
    }
   ],
   "source": [
    "# Fill the string with zeros until it is 10 characters long:\n",
    "txt=\"50\"\n",
    "x=txt.zfill(10)\n",
    "print(x)"
   ]
  },
  {
   "cell_type": "code",
   "execution_count": 69,
   "id": "3133d8bc",
   "metadata": {},
   "outputs": [
    {
     "name": "stdout",
     "output_type": "stream",
     "text": [
      "00000hello\n",
      "welcome to the jungle\n",
      "000010.000\n"
     ]
    }
   ],
   "source": [
    "# Fill the strings with zeros until they are 10 characters long:\n",
    "a = \"hello\"\n",
    "b=\"welcome to the jungle\"\n",
    "c=\"10.000\"\n",
    "print(a.zfill(10))\n",
    "print(b.zfill(10))\n",
    "print(c.zfill(10))"
   ]
  }
 ],
 "metadata": {
  "kernelspec": {
   "display_name": "Python 3 (ipykernel)",
   "language": "python",
   "name": "python3"
  },
  "language_info": {
   "codemirror_mode": {
    "name": "ipython",
    "version": 3
   },
   "file_extension": ".py",
   "mimetype": "text/x-python",
   "name": "python",
   "nbconvert_exporter": "python",
   "pygments_lexer": "ipython3",
   "version": "3.9.12"
  }
 },
 "nbformat": 4,
 "nbformat_minor": 5
}
