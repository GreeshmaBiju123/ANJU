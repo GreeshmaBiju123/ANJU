{
 "cells": [
  {
   "cell_type": "code",
   "execution_count": 1,
   "id": "aa58be2b",
   "metadata": {},
   "outputs": [
    {
     "ename": "SyntaxError",
     "evalue": "invalid syntax (3816806132.py, line 5)",
     "output_type": "error",
     "traceback": [
      "\u001b[1;36m  Input \u001b[1;32mIn [1]\u001b[1;36m\u001b[0m\n\u001b[1;33m    if(amount>2999)\u001b[0m\n\u001b[1;37m                   ^\u001b[0m\n\u001b[1;31mSyntaxError\u001b[0m\u001b[1;31m:\u001b[0m invalid syntax\n"
     ]
    }
   ],
   "source": [
    "# initialize the amount variable\n",
    "amount=10000\n",
    "# check that You are eligible to\n",
    "#  purchase Dsa Self Paced or not\n",
    "if(amount>2999)\n",
    "print(\"You are eligible to purchase dsa self paced\")"
   ]
  },
  {
   "cell_type": "markdown",
   "id": "b0e8bd0c",
   "metadata": {},
   "source": [
    "# Exceptions"
   ]
  },
  {
   "cell_type": "code",
   "execution_count": 3,
   "id": "c7fc5379",
   "metadata": {},
   "outputs": [
    {
     "ename": "ZeroDivisionError",
     "evalue": "division by zero",
     "output_type": "error",
     "traceback": [
      "\u001b[1;31m---------------------------------------------------------------------------\u001b[0m",
      "\u001b[1;31mZeroDivisionError\u001b[0m                         Traceback (most recent call last)",
      "Input \u001b[1;32mIn [3]\u001b[0m, in \u001b[0;36m<cell line: 4>\u001b[1;34m()\u001b[0m\n\u001b[0;32m      2\u001b[0m marks\u001b[38;5;241m=\u001b[39m\u001b[38;5;241m10000\u001b[39m\n\u001b[0;32m      3\u001b[0m \u001b[38;5;66;03m# perform division with 0\u001b[39;00m\n\u001b[1;32m----> 4\u001b[0m a\u001b[38;5;241m=\u001b[39m\u001b[43mmarks\u001b[49m\u001b[38;5;241;43m/\u001b[39;49m\u001b[38;5;241;43m0\u001b[39;49m\n\u001b[0;32m      5\u001b[0m \u001b[38;5;28mprint\u001b[39m(a)\n",
      "\u001b[1;31mZeroDivisionError\u001b[0m: division by zero"
     ]
    }
   ],
   "source": [
    "# initialize the amount variable\n",
    "marks=10000\n",
    "# perform division with 0\n",
    "a=marks/0\n",
    "print(a)"
   ]
  },
  {
   "cell_type": "markdown",
   "id": "a92f4dd7",
   "metadata": {},
   "source": [
    "raised the ZeroDivisionError as we are trying to divide a number by 0"
   ]
  },
  {
   "cell_type": "markdown",
   "id": "c52b7b37",
   "metadata": {},
   "source": [
    "# Try and Except Statement-Catching Exceptions"
   ]
  },
  {
   "cell_type": "code",
   "execution_count": 4,
   "id": "91613201",
   "metadata": {},
   "outputs": [],
   "source": [
    "# try to access the array element whose index is out of bound and handle the corresponding exception\n"
   ]
  },
  {
   "cell_type": "code",
   "execution_count": 5,
   "id": "5aba907b",
   "metadata": {},
   "outputs": [
    {
     "name": "stdout",
     "output_type": "stream",
     "text": [
      "Second element = 2\n",
      "An error occured\n"
     ]
    }
   ],
   "source": [
    "# Python program to handle simple runtime error\n",
    "a=[1,2,3]\n",
    "try:\n",
    "    print(\"Second element =\", (a[1]))\n",
    "    # Throws error since there are only 3 elements in array\n",
    "    print(\"Fourth element =\",a[3] )\n",
    "except:\n",
    "    print(\"An error occured\")\n",
    "    \n",
    "    "
   ]
  },
  {
   "cell_type": "markdown",
   "id": "f5597257",
   "metadata": {},
   "source": [
    "In the above example, the statements that can cause the error are placed inside the try statement (second print statement in our case). \n",
    "\n",
    "The second print statement tries to access the fourth element of the list which is not there and this throws an exception. This exception is then caught by the except statement."
   ]
  },
  {
   "cell_type": "markdown",
   "id": "2b43abdb",
   "metadata": {},
   "source": [
    "# Catching Specific Exception"
   ]
  },
  {
   "cell_type": "code",
   "execution_count": 6,
   "id": "1e9195bb",
   "metadata": {},
   "outputs": [],
   "source": [
    "# we can add IndexError in the above code"
   ]
  },
  {
   "cell_type": "code",
   "execution_count": 8,
   "id": "82dbb7a4",
   "metadata": {},
   "outputs": [
    {
     "name": "stdout",
     "output_type": "stream",
     "text": [
      "Second element=2\n",
      "An error occured\n"
     ]
    }
   ],
   "source": [
    "a=[1,2,3]\n",
    "try:\n",
    "    print(\"Second element=%d\"%(a[1]))\n",
    "    print(\"Fourth element =%d\"%(a[3]))\n",
    "except IndexError:\n",
    "    print(\"An error occured\")\n",
    "       "
   ]
  },
  {
   "cell_type": "code",
   "execution_count": 9,
   "id": "188f5409",
   "metadata": {},
   "outputs": [],
   "source": [
    "#Catching specific exception in Python"
   ]
  },
  {
   "cell_type": "code",
   "execution_count": 11,
   "id": "fa311978",
   "metadata": {},
   "outputs": [
    {
     "name": "stdout",
     "output_type": "stream",
     "text": [
      "ZeroDivisionError  Occured and Handled\n"
     ]
    }
   ],
   "source": [
    "# Program to handle multiple errors with one except statement\n",
    "def fun(a):\n",
    "    if a<4:\n",
    "        # throws ZeroDivisionError for a = 3\n",
    "        b=a/(a-3)\n",
    "            # throws NameError if a >= 4\n",
    "    print(\"value of b=\",b)\n",
    "try:\n",
    "    fun(3)\n",
    "    fun(5)\n",
    "        \n",
    "# note that braces () are necessary here for  multiple exceptions\n",
    "except ZeroDivisionError:\n",
    "    print(\"ZeroDivisionError  Occured and Handled\")\n",
    "except NameError:\n",
    "    print(\"NameError Occured and Handled\")"
   ]
  },
  {
   "cell_type": "code",
   "execution_count": 12,
   "id": "107d04ea",
   "metadata": {},
   "outputs": [],
   "source": [
    "#If you comment on the line fun(3), the output will be"
   ]
  },
  {
   "cell_type": "code",
   "execution_count": 13,
   "id": "70e69ad4",
   "metadata": {},
   "outputs": [
    {
     "name": "stdout",
     "output_type": "stream",
     "text": [
      "NameError Occured and Handled\n"
     ]
    }
   ],
   "source": [
    "# Program to handle multiple errors with one except statement\n",
    "def fun(a):\n",
    "    if a<4:\n",
    "        # throws ZeroDivisionError for a = 3\n",
    "        b=a/(a-3)\n",
    "            # throws NameError if a >= 4\n",
    "    print(\"value of b=\",b)\n",
    "try:\n",
    "    #fun(3)\n",
    "    fun(5)\n",
    "        \n",
    "# note that braces () are necessary here for  multiple exceptions\n",
    "except ZeroDivisionError:\n",
    "    print(\"ZeroDivisionError  Occured and Handled\")\n",
    "except NameError:\n",
    "    print(\"NameError Occured and Handled\")"
   ]
  },
  {
   "cell_type": "markdown",
   "id": "64fed543",
   "metadata": {},
   "source": [
    "The output above is so because as soon as python tries to access the value of b, NameError occurs."
   ]
  },
  {
   "cell_type": "markdown",
   "id": "d5ed3497",
   "metadata": {},
   "source": [
    "# Try with else clause"
   ]
  },
  {
   "cell_type": "code",
   "execution_count": 4,
   "id": "c8d92972",
   "metadata": {},
   "outputs": [
    {
     "name": "stdout",
     "output_type": "stream",
     "text": [
      "5.0\n",
      "a/b result in zero\n"
     ]
    }
   ],
   "source": [
    "# Program to depict else clause with try-except\n",
    "# Function which returns a/btr\n",
    "def AbyB(a,b):\n",
    "    try:\n",
    "        c=((a+b)/(a-b))\n",
    "    except ZeroDivisionError:\n",
    "        print(\"a/b result in zero\")\n",
    "    else:\n",
    "        print(c)\n",
    "        # Driver program to test above function\n",
    "AbyB(3.0,2.0)\n",
    "AbyB(2.0,2.0)"
   ]
  },
  {
   "cell_type": "markdown",
   "id": "4236e87f",
   "metadata": {},
   "source": [
    "# Finally Keyword in python"
   ]
  },
  {
   "cell_type": "code",
   "execution_count": 8,
   "id": "0efbb54c",
   "metadata": {},
   "outputs": [
    {
     "name": "stdout",
     "output_type": "stream",
     "text": [
      "can't divided by zero\n",
      "this is always executed\n"
     ]
    }
   ],
   "source": [
    "# Python program to demonstrate finally\n",
    "try:\n",
    "    k=5//0  # raises divide by zero exception.\n",
    "    print(k)\n",
    "    # handles zerodivision exception\n",
    "except ZeroDivisionError:\n",
    "    print(\"can't divided by zero\")\n",
    "finally:\n",
    "    # this block is always executed\n",
    "    # regardless of exception generation.\n",
    "    print(\"this is always executed\")"
   ]
  },
  {
   "cell_type": "markdown",
   "id": "23ad7296",
   "metadata": {},
   "source": [
    "# Raising Exception"
   ]
  },
  {
   "cell_type": "code",
   "execution_count": 10,
   "id": "fe0c0505",
   "metadata": {},
   "outputs": [
    {
     "name": "stdout",
     "output_type": "stream",
     "text": [
      "An exception\n"
     ]
    },
    {
     "ename": "NameError",
     "evalue": "Hi There",
     "output_type": "error",
     "traceback": [
      "\u001b[1;31m---------------------------------------------------------------------------\u001b[0m",
      "\u001b[1;31mNameError\u001b[0m                                 Traceback (most recent call last)",
      "Input \u001b[1;32mIn [10]\u001b[0m, in \u001b[0;36m<cell line: 1>\u001b[1;34m()\u001b[0m\n\u001b[0;32m      1\u001b[0m \u001b[38;5;28;01mtry\u001b[39;00m:\n\u001b[1;32m----> 2\u001b[0m     \u001b[38;5;28;01mraise\u001b[39;00m \u001b[38;5;167;01mNameError\u001b[39;00m(\u001b[38;5;124m\"\u001b[39m\u001b[38;5;124mHi There\u001b[39m\u001b[38;5;124m\"\u001b[39m)\n\u001b[0;32m      3\u001b[0m \u001b[38;5;28;01mexcept\u001b[39;00m \u001b[38;5;167;01mNameError\u001b[39;00m:\n\u001b[0;32m      4\u001b[0m     \u001b[38;5;28mprint\u001b[39m(\u001b[38;5;124m\"\u001b[39m\u001b[38;5;124mAn exception\u001b[39m\u001b[38;5;124m\"\u001b[39m)\n",
      "\u001b[1;31mNameError\u001b[0m: Hi There"
     ]
    }
   ],
   "source": [
    "# Program to depict Raising Exception\n",
    "try:\n",
    "    raise NameError(\"Hi There\")  # Raise Error\n",
    "except NameError:\n",
    "    print(\"An exception\")\n",
    "    raise# To determine whether the exception was raised or not"
   ]
  },
  {
   "cell_type": "markdown",
   "id": "8236d928",
   "metadata": {},
   "source": [
    "The output of the above code will simply line printed as “An exception” but a Runtime error will also occur in the last due to the raise statement in the last line."
   ]
  },
  {
   "cell_type": "code",
   "execution_count": null,
   "id": "47ceff7d",
   "metadata": {},
   "outputs": [],
   "source": []
  }
 ],
 "metadata": {
  "kernelspec": {
   "display_name": "Python 3 (ipykernel)",
   "language": "python",
   "name": "python3"
  },
  "language_info": {
   "codemirror_mode": {
    "name": "ipython",
    "version": 3
   },
   "file_extension": ".py",
   "mimetype": "text/x-python",
   "name": "python",
   "nbconvert_exporter": "python",
   "pygments_lexer": "ipython3",
   "version": "3.9.12"
  }
 },
 "nbformat": 4,
 "nbformat_minor": 5
}
