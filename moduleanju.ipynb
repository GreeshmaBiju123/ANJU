{
 "cells": [
  {
   "cell_type": "markdown",
   "id": "668eaa8d",
   "metadata": {},
   "source": [
    "# use a module"
   ]
  },
  {
   "cell_type": "code",
   "execution_count": 1,
   "id": "a873bb12",
   "metadata": {},
   "outputs": [],
   "source": [
    "import mymoduleanju"
   ]
  },
  {
   "cell_type": "code",
   "execution_count": 3,
   "id": "0903e314",
   "metadata": {},
   "outputs": [
    {
     "name": "stdout",
     "output_type": "stream",
     "text": [
      "Hello Ammu\n"
     ]
    }
   ],
   "source": [
    "mymoduleanju.my_function(\" Ammu\")"
   ]
  },
  {
   "cell_type": "markdown",
   "id": "07b14a05",
   "metadata": {},
   "source": [
    "Import the module named mymoduleanju, and call the my_function function"
   ]
  },
  {
   "cell_type": "markdown",
   "id": "a6994380",
   "metadata": {},
   "source": [
    "# variables in module"
   ]
  },
  {
   "cell_type": "code",
   "execution_count": 4,
   "id": "f299d4e0",
   "metadata": {},
   "outputs": [
    {
     "name": "stdout",
     "output_type": "stream",
     "text": [
      "34\n"
     ]
    }
   ],
   "source": [
    "a=mymoduleanju.person1[\"age\"]\n",
    "print(a)"
   ]
  },
  {
   "cell_type": "markdown",
   "id": "4c917d50",
   "metadata": {},
   "source": [
    "Import the module named mymoduleanju, and access the person1 dictionary"
   ]
  },
  {
   "cell_type": "markdown",
   "id": "7354805d",
   "metadata": {},
   "source": [
    "# renaming a module"
   ]
  },
  {
   "cell_type": "code",
   "execution_count": 5,
   "id": "222ec183",
   "metadata": {},
   "outputs": [
    {
     "name": "stdout",
     "output_type": "stream",
     "text": [
      "34\n"
     ]
    }
   ],
   "source": [
    "import mymoduleanju as anju\n",
    "a=anju.person1[\"age\"]\n",
    "print(a)"
   ]
  },
  {
   "cell_type": "markdown",
   "id": "4e897eda",
   "metadata": {},
   "source": [
    "Create an alias for mymoduleanju called mx"
   ]
  },
  {
   "cell_type": "markdown",
   "id": "d43a38d5",
   "metadata": {},
   "source": [
    "# BUILT IN MODULES"
   ]
  },
  {
   "cell_type": "code",
   "execution_count": 6,
   "id": "c998c3fc",
   "metadata": {},
   "outputs": [
    {
     "name": "stdout",
     "output_type": "stream",
     "text": [
      "Windows\n"
     ]
    }
   ],
   "source": [
    "import platform\n",
    "x=platform.system()\n",
    "print(x)"
   ]
  },
  {
   "cell_type": "markdown",
   "id": "5b68b536",
   "metadata": {},
   "source": [
    "Import and use the platform module"
   ]
  },
  {
   "cell_type": "markdown",
   "id": "a9688ab0",
   "metadata": {},
   "source": [
    "# Using the dir() function"
   ]
  },
  {
   "cell_type": "code",
   "execution_count": 7,
   "id": "64fa4d1f",
   "metadata": {},
   "outputs": [
    {
     "name": "stdout",
     "output_type": "stream",
     "text": [
      "['_Processor', '_WIN32_CLIENT_RELEASES', '_WIN32_SERVER_RELEASES', '__builtins__', '__cached__', '__copyright__', '__doc__', '__file__', '__loader__', '__name__', '__package__', '__spec__', '__version__', '_comparable_version', '_component_re', '_default_architecture', '_follow_symlinks', '_get_machine_win32', '_ironpython26_sys_version_parser', '_ironpython_sys_version_parser', '_java_getprop', '_libc_search', '_mac_ver_xml', '_node', '_norm_version', '_platform', '_platform_cache', '_pypy_sys_version_parser', '_sys_version', '_sys_version_cache', '_sys_version_parser', '_syscmd_file', '_syscmd_ver', '_uname_cache', '_unknown_as_blank', '_ver_output', '_ver_stages', 'architecture', 'collections', 'functools', 'itertools', 'java_ver', 'libc_ver', 'mac_ver', 'machine', 'node', 'os', 'platform', 'processor', 'python_branch', 'python_build', 'python_compiler', 'python_implementation', 'python_revision', 'python_version', 'python_version_tuple', 're', 'release', 'subprocess', 'sys', 'system', 'system_alias', 'uname', 'uname_result', 'version', 'win32_edition', 'win32_is_iot', 'win32_ver']\n"
     ]
    }
   ],
   "source": [
    "x=dir(platform)\n",
    "print(x)"
   ]
  },
  {
   "cell_type": "markdown",
   "id": "d61fa3ac",
   "metadata": {},
   "source": [
    "List all the defined names belonging to the platform module"
   ]
  },
  {
   "cell_type": "markdown",
   "id": "ac8a8103",
   "metadata": {},
   "source": [
    "# Import from module"
   ]
  },
  {
   "cell_type": "code",
   "execution_count": 8,
   "id": "a39393a8",
   "metadata": {},
   "outputs": [],
   "source": [
    "def my_function(name):\n",
    "    print(\"Hello,\"+ name)\n",
    "person1={\"name\":\"ammu\",\"age\":34,\"country\":\"india\"}\n",
    "    "
   ]
  },
  {
   "cell_type": "markdown",
   "id": "878435d8",
   "metadata": {},
   "source": [
    "The module named mymoduleanju has one function and one dictionary"
   ]
  },
  {
   "cell_type": "code",
   "execution_count": 10,
   "id": "45f0a9d8",
   "metadata": {},
   "outputs": [
    {
     "name": "stdout",
     "output_type": "stream",
     "text": [
      "34\n"
     ]
    }
   ],
   "source": [
    "# Import only the person1 dictionary from the module\n",
    "from mymoduleanju import person1\n",
    "print(person1[\"age\"])"
   ]
  },
  {
   "cell_type": "markdown",
   "id": "74c840e9",
   "metadata": {},
   "source": [
    "When importing using the from keyword, do not use the module name when referring to elements in the module. Example: person1[\"age\"], not mymoduleanju.person1[\"age\"]"
   ]
  }
 ],
 "metadata": {
  "kernelspec": {
   "display_name": "Python 3 (ipykernel)",
   "language": "python",
   "name": "python3"
  },
  "language_info": {
   "codemirror_mode": {
    "name": "ipython",
    "version": 3
   },
   "file_extension": ".py",
   "mimetype": "text/x-python",
   "name": "python",
   "nbconvert_exporter": "python",
   "pygments_lexer": "ipython3",
   "version": "3.9.12"
  }
 },
 "nbformat": 4,
 "nbformat_minor": 5
}
