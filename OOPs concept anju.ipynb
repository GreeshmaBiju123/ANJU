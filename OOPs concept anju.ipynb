{
 "cells": [
  {
   "cell_type": "markdown",
   "id": "1f207795",
   "metadata": {},
   "source": [
    "# class"
   ]
  },
  {
   "cell_type": "code",
   "execution_count": 1,
   "id": "f5993f00",
   "metadata": {},
   "outputs": [],
   "source": [
    "# Creating an empty Class in Python\n"
   ]
  },
  {
   "cell_type": "code",
   "execution_count": 2,
   "id": "c0fb64ad",
   "metadata": {},
   "outputs": [],
   "source": [
    "# demonstrate defining\n",
    "# a class\n",
    "class Dog():\n",
    "    pass\n",
    "\n"
   ]
  },
  {
   "cell_type": "markdown",
   "id": "fac729bc",
   "metadata": {},
   "source": [
    " In the above example, we have created a class named dog using the class keyword."
   ]
  },
  {
   "cell_type": "markdown",
   "id": "de609d6a",
   "metadata": {},
   "source": [
    "# Object"
   ]
  },
  {
   "cell_type": "code",
   "execution_count": 3,
   "id": "692fdf01",
   "metadata": {},
   "outputs": [],
   "source": [
    "obj=Dog()\n",
    "\n"
   ]
  },
  {
   "cell_type": "markdown",
   "id": "516387cf",
   "metadata": {},
   "source": [
    "This will create an object named obj of the class Dog defined above. "
   ]
  },
  {
   "cell_type": "markdown",
   "id": "9530d74e",
   "metadata": {},
   "source": [
    "# Creating a class and object with class and instance attributes"
   ]
  },
  {
   "cell_type": "code",
   "execution_count": 9,
   "id": "8a95117f",
   "metadata": {},
   "outputs": [
    {
     "name": "stdout",
     "output_type": "stream",
     "text": [
      "rodger is a  mammal\n",
      "tommy is also a mammal\n",
      "My name is rodger\n",
      "My name is tommy\n"
     ]
    }
   ],
   "source": [
    "class Dog:\n",
    "        # class attribute\n",
    "        attr1=\"mammal\"\n",
    "        # Instance attribute\n",
    "        def __init__(self,name):\n",
    "            self.name=name\n",
    "# Driver code\n",
    "# Object instantiation\n",
    "rodger=Dog(\"rodger\")\n",
    "tommy=Dog(\"tommy\")\n",
    "# Accessing class attributes\n",
    "print(\"rodger is a \",rodger.__class__.attr1)\n",
    "print(\"tommy is also a\",tommy.__class__.attr1)\n",
    "# Accessing instance attributes\n",
    "print(\"My name is {}\".format(rodger.name))\n",
    "print(\"My name is {}\".format(tommy.name))\n"
   ]
  },
  {
   "cell_type": "markdown",
   "id": "0d0ada90",
   "metadata": {},
   "source": [
    "# Creating class and objects with methods"
   ]
  },
  {
   "cell_type": "code",
   "execution_count": 12,
   "id": "42c6b235",
   "metadata": {},
   "outputs": [
    {
     "name": "stdout",
     "output_type": "stream",
     "text": [
      "My name is rodger \n",
      "My name is tommy \n"
     ]
    }
   ],
   "source": [
    "class Dog:\n",
    "    # Instance attribute\n",
    "    def __init__(self,name):\n",
    "        self.name=name\n",
    "    def speak(self):\n",
    "        print(\"My name is {}\".format(self.name))\n",
    "# Driver code\n",
    "# Object instantiation\n",
    "rodger=Dog(\"rodger \") \n",
    "tommy=Dog(\"tommy \")\n",
    "# Accessing class methods\n",
    "\n",
    "rodger.speak() \n",
    "tommy.speak()\n",
    "    "
   ]
  },
  {
   "cell_type": "markdown",
   "id": "dd5a2b2c",
   "metadata": {},
   "source": [
    "# Inheritance"
   ]
  },
  {
   "cell_type": "code",
   "execution_count": 17,
   "id": "2a2a85c7",
   "metadata": {},
   "outputs": [
    {
     "name": "stdout",
     "output_type": "stream",
     "text": [
      "Rahul\n",
      "886012\n",
      "my name is Rahul\n",
      "idnumber 886012\n",
      "post:Intern\n"
     ]
    }
   ],
   "source": [
    "# Python code to demonstrate how parent constructors are called.\n",
    "# parent class\n",
    "class person (object):\n",
    "    # __init__ is known as the constructor\n",
    "    def __init__(self,name,idnumber):\n",
    "            self.name=name\n",
    "            self.idnumber=idnumber\n",
    "    def display(self):\n",
    "        print(self.name)\n",
    "        print(self.idnumber)\n",
    "    def details(self):\n",
    "        print(\"my name is{}\",format(self.name))\n",
    "        print(\"idnumber:{}\",format(self.idnumber))\n",
    "# child class\n",
    "class Employee(person):\n",
    "    def __init__(self,name,idnumber,salary,post):\n",
    "        self.salary=salary\n",
    "        self.post=post\n",
    "         # invoking the __init__ of the parent class\n",
    "        person.__init__(self,name,idnumber)\n",
    "    def details(self):\n",
    "        print(\"my name is {}\".format(self.name))\n",
    "        print(\"idnumber {}\".format(self.idnumber))\n",
    "        print(\"post:{}\".format(self.post))\n",
    "# creation of an object variable or an instance\n",
    "a=Employee('Rahul',886012,200000,\"Intern\")\n",
    "# calling a function of the class Person using its instance\n",
    "a.display()\n",
    "a.details()\n",
    "\n",
    "        \n",
    "\n",
    "        \n",
    "    \n",
    "    \n",
    "            \n",
    "        "
   ]
  },
  {
   "cell_type": "markdown",
   "id": "5498e72c",
   "metadata": {},
   "source": [
    "we have created two classes i.e. Person (parent class) and Employee (Child Class). The Employee class inherits from the Person class. We can use the methods of the person class through employee class as seen in the display function in the above code. A child class can also modify the behavior of the parent class as seen through the details() method."
   ]
  },
  {
   "cell_type": "markdown",
   "id": "c3113931",
   "metadata": {},
   "source": [
    "# Polymorphism"
   ]
  },
  {
   "cell_type": "code",
   "execution_count": 18,
   "id": "23946b90",
   "metadata": {},
   "outputs": [],
   "source": [
    "# we need to determine if the given species of birds fly or not, using polymorphism we can do this using a single function."
   ]
  },
  {
   "cell_type": "code",
   "execution_count": 19,
   "id": "6a4997e1",
   "metadata": {},
   "outputs": [
    {
     "name": "stdout",
     "output_type": "stream",
     "text": [
      "There are many types of birds.\n",
      "Most of the birds can fly but some cannot.\n",
      "sparrow can fly.\n",
      "Ostriches cannot fly.\n"
     ]
    }
   ],
   "source": [
    "class bird:\n",
    "    def intro(self):\n",
    "        print(\"There are many types of birds.\")\n",
    "    def flight(self):\n",
    "        print(\"Most of the birds can fly but some cannot.\")\n",
    "class sparrow(bird):\n",
    "    def flight(self):\n",
    "        print(\"sparrow can fly.\")\n",
    "class ostrich(bird):\n",
    "    def flight(self):\n",
    "        print(\"Ostriches cannot fly.\")\n",
    "obj_bird=bird()\n",
    "obj_spr=sparrow()\n",
    "obj_ost=ostrich()\n",
    "\n",
    "obj_bird.intro()\n",
    "obj_bird.flight()\n",
    "obj_spr.flight()\n",
    "obj_ost.flight()\n",
    "\n",
    "        "
   ]
  },
  {
   "cell_type": "markdown",
   "id": "20ab0166",
   "metadata": {},
   "source": [
    "# Encapsulation"
   ]
  },
  {
   "cell_type": "code",
   "execution_count": 23,
   "id": "6756513e",
   "metadata": {},
   "outputs": [
    {
     "name": "stdout",
     "output_type": "stream",
     "text": [
      "hello\n"
     ]
    }
   ],
   "source": [
    "# Python program to demonstrate private members\n",
    "# Creating a Base class\n",
    "class base:\n",
    "    def __init__(self):\n",
    "        self.a=\"hello\"\n",
    "        self.__c=\"hello\"\n",
    "# Creating a derived class\n",
    "class derived(base):\n",
    "    def __init__(self):\n",
    "        # Calling constructor of\n",
    "        # Base class\n",
    "        base.__init__(self)\n",
    "        print(\"calling private member of base class:\")\n",
    "        print(self.__c)\n",
    "# Driver code\n",
    "obj1=base()\n",
    "print(obj1.a)\n",
    "\n",
    "  \n",
    "# Uncommenting print(obj1.c) will raise an AttributeError\n",
    " # Uncommenting obj2 = Derived() will also raise an AtrributeError as private member of base class is called inside derived class       \n",
    "        \n",
    "    \n",
    "        \n",
    "        "
   ]
  },
  {
   "cell_type": "markdown",
   "id": "dd913cad",
   "metadata": {},
   "source": [
    "we have created the c variable as the private attribute. We cannot even access this attribute directly and can’t even change its value."
   ]
  },
  {
   "cell_type": "markdown",
   "id": "2dba6121",
   "metadata": {},
   "source": [
    "# Data Abstraction"
   ]
  },
  {
   "cell_type": "code",
   "execution_count": 2,
   "id": "e99f82d8",
   "metadata": {},
   "outputs": [
    {
     "name": "stdout",
     "output_type": "stream",
     "text": [
      "Triangle has 3 sides\n",
      "pentagon has 5 sides\n",
      "hexagon has 6 sides\n",
      "square has 4 sides\n"
     ]
    }
   ],
   "source": [
    "# Python program to define   \n",
    "# abstract class  \n",
    "from abc import ABC\n",
    "class polygon(ABC):\n",
    "    # abstract method\n",
    "    def sides(self):\n",
    "        pass\n",
    "class triangle(polygon):\n",
    "    def sides(self):\n",
    "        print(\"Triangle has 3 sides\")\n",
    "class pentagon(polygon):\n",
    "    def sides(self):\n",
    "        print(\"pentagon has 5 sides\")\n",
    "class hexagon(polygon):\n",
    "    def sides(self):\n",
    "        print(\"hexagon has 6 sides\")\n",
    "class square(polygon):\n",
    "    def sides(self):\n",
    "        print(\"square has 4 sides\")\n",
    "# Driver code\n",
    "t=triangle()\n",
    "t.sides()\n",
    "p=pentagon()\n",
    "p.sides()\n",
    "h=hexagon()\n",
    "h.sides()\n",
    "s=square()\n",
    "s.sides()\n"
   ]
  },
  {
   "cell_type": "code",
   "execution_count": null,
   "id": "cd169384",
   "metadata": {},
   "outputs": [],
   "source": []
  }
 ],
 "metadata": {
  "kernelspec": {
   "display_name": "Python 3 (ipykernel)",
   "language": "python",
   "name": "python3"
  },
  "language_info": {
   "codemirror_mode": {
    "name": "ipython",
    "version": 3
   },
   "file_extension": ".py",
   "mimetype": "text/x-python",
   "name": "python",
   "nbconvert_exporter": "python",
   "pygments_lexer": "ipython3",
   "version": "3.9.12"
  }
 },
 "nbformat": 4,
 "nbformat_minor": 5
}
