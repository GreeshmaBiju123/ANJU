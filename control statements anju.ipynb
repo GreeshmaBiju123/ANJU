{
 "cells": [
  {
   "cell_type": "markdown",
   "id": "6535b408",
   "metadata": {},
   "source": [
    "# CONTROL STRUCTURES/STATEMENTS"
   ]
  },
  {
   "cell_type": "markdown",
   "id": "5459b807",
   "metadata": {},
   "source": [
    "# 1.SEQENTIAL OR PASS STATEMENTS\n"
   ]
  },
  {
   "cell_type": "code",
   "execution_count": 1,
   "id": "6d6a454a",
   "metadata": {},
   "outputs": [
    {
     "name": "stdout",
     "output_type": "stream",
     "text": [
      "Letters: F\n",
      "Letters: l\n",
      "Letters: e\n",
      "Letters: x\n",
      "Letters: i\n",
      "Letters: p\n",
      "Letters: l\n",
      "Letters: e\n"
     ]
    }
   ],
   "source": [
    "for letter in 'Flexiple':\n",
    "    if letter=='x':\n",
    "        pass\n",
    "    print('Letters:',letter)"
   ]
  },
  {
   "cell_type": "markdown",
   "id": "8ca3c086",
   "metadata": {},
   "source": [
    "even though the condition was met,the pass statement did't do anything and execution moved to the next iteration"
   ]
  },
  {
   "cell_type": "markdown",
   "id": "16e63fca",
   "metadata": {},
   "source": [
    "# 2.continue statement"
   ]
  },
  {
   "cell_type": "code",
   "execution_count": 2,
   "id": "cc633cff",
   "metadata": {},
   "outputs": [
    {
     "name": "stdout",
     "output_type": "stream",
     "text": [
      "Letters: F\n",
      "Letters: l\n",
      "Letters: e\n",
      "Letters: x\n",
      "Letters: i\n",
      "Letters: p\n",
      "Letters: l\n",
      "Letters: e\n"
     ]
    }
   ],
   "source": [
    "for letter in 'Flex iple':\n",
    "    if letter==' ':\n",
    "        continue\n",
    "    print('Letters:',letter)"
   ]
  },
  {
   "cell_type": "markdown",
   "id": "f7419aa7",
   "metadata": {},
   "source": [
    "the program will skip the space '' in the word and continue with the next of the iteration"
   ]
  },
  {
   "cell_type": "markdown",
   "id": "4a8f561e",
   "metadata": {},
   "source": [
    "# 3.BREAK STATEMENT"
   ]
  },
  {
   "cell_type": "code",
   "execution_count": 7,
   "id": "40fb211a",
   "metadata": {},
   "outputs": [
    {
     "name": "stdout",
     "output_type": "stream",
     "text": [
      "\n",
      " please enter your age 17\n",
      "you are not eligible to vote\n"
     ]
    }
   ],
   "source": [
    "age=int(input(\"\\n please enter your age \"))\n",
    "while True:\n",
    "    if age >=18:\n",
    "        break\n",
    "    else:\n",
    "        print(\"you are not eligible to vote\")\n",
    "        age+=1"
   ]
  },
  {
   "cell_type": "code",
   "execution_count": 9,
   "id": "cbdcc825",
   "metadata": {},
   "outputs": [
    {
     "name": "stdout",
     "output_type": "stream",
     "text": [
      "\n",
      " please enter your age 20\n"
     ]
    }
   ],
   "source": [
    "age=int(input(\"\\n please enter your age \"))\n",
    "while True:\n",
    "    if age >=18:\n",
    "        break\n",
    "    else:\n",
    "        print(\"you are not eligible to vote\")\n",
    "        age+=1"
   ]
  },
  {
   "cell_type": "markdown",
   "id": "9bc32e8e",
   "metadata": {},
   "source": [
    "if the age is equal to or more than 18 breaks out of the loop"
   ]
  },
  {
   "cell_type": "code",
   "execution_count": null,
   "id": "1df1b66f",
   "metadata": {},
   "outputs": [],
   "source": []
  }
 ],
 "metadata": {
  "kernelspec": {
   "display_name": "Python 3 (ipykernel)",
   "language": "python",
   "name": "python3"
  },
  "language_info": {
   "codemirror_mode": {
    "name": "ipython",
    "version": 3
   },
   "file_extension": ".py",
   "mimetype": "text/x-python",
   "name": "python",
   "nbconvert_exporter": "python",
   "pygments_lexer": "ipython3",
   "version": "3.9.12"
  }
 },
 "nbformat": 4,
 "nbformat_minor": 5
}
