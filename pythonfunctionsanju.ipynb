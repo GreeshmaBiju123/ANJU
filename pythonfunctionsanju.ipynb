{
 "cells": [
  {
   "cell_type": "markdown",
   "id": "8ea2b299",
   "metadata": {},
   "source": [
    "# FUNCTIONS"
   ]
  },
  {
   "cell_type": "markdown",
   "id": "e3b041f5",
   "metadata": {},
   "source": [
    "# Creating a Function"
   ]
  },
  {
   "cell_type": "code",
   "execution_count": 1,
   "id": "0b9e5bcc",
   "metadata": {},
   "outputs": [],
   "source": [
    "def my_function():\n",
    "    print(\"Hello from a function\")"
   ]
  },
  {
   "cell_type": "markdown",
   "id": "fa977fa3",
   "metadata": {},
   "source": [
    "# calling a function"
   ]
  },
  {
   "cell_type": "code",
   "execution_count": 2,
   "id": "58cd2e3a",
   "metadata": {},
   "outputs": [
    {
     "name": "stdout",
     "output_type": "stream",
     "text": [
      "Hello from a function\n"
     ]
    }
   ],
   "source": [
    "def my_function():\n",
    "    print(\"Hello from a function\")\n",
    "my_function()    "
   ]
  },
  {
   "cell_type": "markdown",
   "id": "a15dbd57",
   "metadata": {},
   "source": [
    "# Arguments"
   ]
  },
  {
   "cell_type": "code",
   "execution_count": 6,
   "id": "5e61d61f",
   "metadata": {},
   "outputs": [
    {
     "name": "stdout",
     "output_type": "stream",
     "text": [
      "Ammu john\n",
      "Anu john\n",
      "geethu john\n"
     ]
    }
   ],
   "source": [
    "def my_function(fname):\n",
    "    print(fname  +  \" john\")\n",
    "my_function(\"Ammu\")      \n",
    "my_function(\"Anu\")      \n",
    "my_function(\"geethu\")      \n"
   ]
  },
  {
   "cell_type": "markdown",
   "id": "441948f7",
   "metadata": {},
   "source": [
    "This example has a function with one argument (fname). When the function is called, we pass along a first name, which is used inside the function to print the full name."
   ]
  },
  {
   "cell_type": "markdown",
   "id": "6fb7f905",
   "metadata": {},
   "source": [
    "# NUMBER OF ARGUMENTS"
   ]
  },
  {
   "cell_type": "code",
   "execution_count": 8,
   "id": "d87cc0ab",
   "metadata": {},
   "outputs": [
    {
     "name": "stdout",
     "output_type": "stream",
     "text": [
      "ammu ak\n"
     ]
    }
   ],
   "source": [
    "def my_function(fname,lname):\n",
    "    print(fname  +\" \"+lname)\n",
    "my_function(\"ammu\", \"ak\")"
   ]
  },
  {
   "cell_type": "markdown",
   "id": "57d49877",
   "metadata": {},
   "source": [
    "This function expects 2 arguments, and gets 2 arguments:"
   ]
  },
  {
   "cell_type": "code",
   "execution_count": 9,
   "id": "bbce2c79",
   "metadata": {},
   "outputs": [
    {
     "ename": "TypeError",
     "evalue": "my_function() missing 1 required positional argument: 'lname'",
     "output_type": "error",
     "traceback": [
      "\u001b[1;31m---------------------------------------------------------------------------\u001b[0m",
      "\u001b[1;31mTypeError\u001b[0m                                 Traceback (most recent call last)",
      "Input \u001b[1;32mIn [9]\u001b[0m, in \u001b[0;36m<cell line: 4>\u001b[1;34m()\u001b[0m\n\u001b[0;32m      2\u001b[0m \u001b[38;5;28;01mdef\u001b[39;00m \u001b[38;5;21mmy_function\u001b[39m(fname,lname):\n\u001b[0;32m      3\u001b[0m     \u001b[38;5;28mprint\u001b[39m(fname  \u001b[38;5;241m+\u001b[39m\u001b[38;5;124m\"\u001b[39m\u001b[38;5;124m \u001b[39m\u001b[38;5;124m\"\u001b[39m\u001b[38;5;241m+\u001b[39mlname)\n\u001b[1;32m----> 4\u001b[0m \u001b[43mmy_function\u001b[49m\u001b[43m(\u001b[49m\u001b[38;5;124;43m\"\u001b[39;49m\u001b[38;5;124;43mammu\u001b[39;49m\u001b[38;5;124;43m\"\u001b[39;49m\u001b[43m)\u001b[49m\n",
      "\u001b[1;31mTypeError\u001b[0m: my_function() missing 1 required positional argument: 'lname'"
     ]
    }
   ],
   "source": [
    "# If you try to call the function with 1 or 3 arguments, you will get an error:\n",
    "def my_function(fname,lname):\n",
    "    print(fname  +\" \"+lname)\n",
    "my_function(\"ammu\")"
   ]
  },
  {
   "cell_type": "markdown",
   "id": "23bf3d72",
   "metadata": {},
   "source": [
    "This function expects 2 arguments, but gets only 1"
   ]
  },
  {
   "cell_type": "markdown",
   "id": "89b394d1",
   "metadata": {},
   "source": [
    "# Arbitrary arguments,*args"
   ]
  },
  {
   "cell_type": "code",
   "execution_count": 11,
   "id": "4f5cc70e",
   "metadata": {},
   "outputs": [
    {
     "name": "stdout",
     "output_type": "stream",
     "text": [
      "The youngest child is manu\n"
     ]
    }
   ],
   "source": [
    "def my_function(*kids):\n",
    "    print(\"The youngest child is \"+ kids[2])\n",
    "my_function(\"ammu\",\"maya\",\"manu\")    "
   ]
  },
  {
   "cell_type": "markdown",
   "id": "5af0db49",
   "metadata": {},
   "source": [
    "If the number of arguments is unknown, add a * before the parameter name"
   ]
  },
  {
   "cell_type": "markdown",
   "id": "cf971f36",
   "metadata": {},
   "source": [
    "# Keyword Arguments"
   ]
  },
  {
   "cell_type": "code",
   "execution_count": 13,
   "id": "64ab88f2",
   "metadata": {},
   "outputs": [
    {
     "name": "stdout",
     "output_type": "stream",
     "text": [
      "The Youngest child is manu\n"
     ]
    }
   ],
   "source": [
    "def my_function(child3,child2,child1):\n",
    "    print(\"The Youngest child is \"+child3)\n",
    "my_function(child1=\"ammu\",child2=\"maya\",child3=\"manu\")    "
   ]
  },
  {
   "cell_type": "markdown",
   "id": "51c494bd",
   "metadata": {},
   "source": [
    "# Arbitrary Keyword Arguments,**kwargs"
   ]
  },
  {
   "cell_type": "code",
   "execution_count": 14,
   "id": "3fd0e54b",
   "metadata": {},
   "outputs": [
    {
     "name": "stdout",
     "output_type": "stream",
     "text": [
      "His last name is maya\n"
     ]
    }
   ],
   "source": [
    "def my_function(**kids):\n",
    "    print(\"His last name is \"+ kids[\"lname\"])\n",
    "my_function(fname=\"ammu\",lname=\"maya\")    "
   ]
  },
  {
   "cell_type": "markdown",
   "id": "e570b4f2",
   "metadata": {},
   "source": [
    "If the number of keyword arguments is unknown, add a double ** before the parameter name"
   ]
  },
  {
   "cell_type": "markdown",
   "id": "b3e739d0",
   "metadata": {},
   "source": [
    "# default parameter value"
   ]
  },
  {
   "cell_type": "code",
   "execution_count": 15,
   "id": "d7362a79",
   "metadata": {},
   "outputs": [
    {
     "name": "stdout",
     "output_type": "stream",
     "text": [
      "I am from sweden\n",
      "I am from india\n",
      "I am from Norway\n",
      "I am from brazil\n"
     ]
    }
   ],
   "source": [
    "def my_function(country=\"Norway\"):\n",
    "    print(\"I am from \"+country)\n",
    "my_function(\"sweden\")    \n",
    "my_function(\"india\")    \n",
    "my_function()    \n",
    "my_function(\"brazil\")    "
   ]
  },
  {
   "cell_type": "markdown",
   "id": "392f84dd",
   "metadata": {},
   "source": [
    "# Passing a List as an Argument"
   ]
  },
  {
   "cell_type": "code",
   "execution_count": 16,
   "id": "72aee86c",
   "metadata": {},
   "outputs": [
    {
     "name": "stdout",
     "output_type": "stream",
     "text": [
      "apple\n",
      "banana\n",
      "cherry\n"
     ]
    }
   ],
   "source": [
    "def my_function(food):\n",
    "    for x in food:\n",
    "        print(x)\n",
    "food=[\"apple\",\"banana\",\"cherry\"]\n",
    "my_function(food)"
   ]
  },
  {
   "cell_type": "markdown",
   "id": "564011ef",
   "metadata": {},
   "source": [
    "if you send a List as an argument, it will still be a List when it reaches the function"
   ]
  },
  {
   "cell_type": "markdown",
   "id": "84885b8a",
   "metadata": {},
   "source": [
    "# Return Values"
   ]
  },
  {
   "cell_type": "code",
   "execution_count": 18,
   "id": "cd881dfe",
   "metadata": {},
   "outputs": [
    {
     "name": "stdout",
     "output_type": "stream",
     "text": [
      "15\n",
      "25\n",
      "45\n"
     ]
    }
   ],
   "source": [
    "def my_function(x):\n",
    "    return 5 * x\n",
    "print(my_function(3))\n",
    "print(my_function(5))\n",
    "print(my_function(9))"
   ]
  },
  {
   "cell_type": "markdown",
   "id": "36bf3138",
   "metadata": {},
   "source": [
    "# The pass statement"
   ]
  },
  {
   "cell_type": "code",
   "execution_count": 19,
   "id": "a2fa0afd",
   "metadata": {},
   "outputs": [],
   "source": [
    "def my_function():\n",
    "    pass\n",
    " "
   ]
  },
  {
   "cell_type": "markdown",
   "id": "eab6f9f1",
   "metadata": {},
   "source": [
    "# Recursion"
   ]
  },
  {
   "cell_type": "code",
   "execution_count": 22,
   "id": "e5441f71",
   "metadata": {},
   "outputs": [
    {
     "name": "stdout",
     "output_type": "stream",
     "text": [
      "\n",
      "\n",
      "Recursion Example Results\n",
      "1\n",
      "3\n",
      "6\n",
      "10\n",
      "15\n",
      "21\n"
     ]
    },
    {
     "data": {
      "text/plain": [
       "21"
      ]
     },
     "execution_count": 22,
     "metadata": {},
     "output_type": "execute_result"
    }
   ],
   "source": [
    "def tri_recursion(k):\n",
    "    if (k>0):\n",
    "        result=k+tri_recursion(k-1)\n",
    "        print(result)\n",
    "    else:\n",
    "        result=0\n",
    "    return result\n",
    "print(\"\\n\\nRecursion Example Results\")\n",
    "tri_recursion(6)"
   ]
  },
  {
   "cell_type": "markdown",
   "id": "8536e28e",
   "metadata": {},
   "source": [
    "tri_recursion() is a function that we have defined to call itself (\"recurse\"). We use the k variable as the data, which decrements (-1) every time we recurse. The recursion ends when the condition is not greater than 0 (i.e. when it is 0)"
   ]
  }
 ],
 "metadata": {
  "kernelspec": {
   "display_name": "Python 3 (ipykernel)",
   "language": "python",
   "name": "python3"
  },
  "language_info": {
   "codemirror_mode": {
    "name": "ipython",
    "version": 3
   },
   "file_extension": ".py",
   "mimetype": "text/x-python",
   "name": "python",
   "nbconvert_exporter": "python",
   "pygments_lexer": "ipython3",
   "version": "3.9.12"
  }
 },
 "nbformat": 4,
 "nbformat_minor": 5
}
