{
 "cells": [
  {
   "cell_type": "code",
   "execution_count": 1,
   "id": "5ca53e81",
   "metadata": {},
   "outputs": [
    {
     "name": "stdout",
     "output_type": "stream",
     "text": [
      "enter the radius= 7\n",
      "area of a circle with radius, 7.0 = 153.86\n"
     ]
    }
   ],
   "source": [
    "#1\n",
    "r=float(input(\"enter the radius= \"))\n",
    "area=3.14*r*r\n",
    "print(\"area of a circle with radius,\",r,\"=\",area)"
   ]
  },
  {
   "cell_type": "code",
   "execution_count": 2,
   "id": "21dac301",
   "metadata": {},
   "outputs": [
    {
     "name": "stdout",
     "output_type": "stream",
     "text": [
      "enter the name=anju\n",
      "enter the rollno=2\n",
      "enter the mark=98\n",
      "name: anju\n",
      "rollno: 2\n",
      "mark: 98\n"
     ]
    }
   ],
   "source": [
    "#2\n",
    "name=input(\"enter the name=\")\n",
    "rollno=input(\"enter the rollno=\")\n",
    "mark=input(\"enter the mark=\")\n",
    "print(\"name:\",name)\n",
    "print(\"rollno:\",rollno)\n",
    "print(\"mark:\",mark)\n"
   ]
  },
  {
   "cell_type": "code",
   "execution_count": 3,
   "id": "5ead2239",
   "metadata": {},
   "outputs": [
    {
     "name": "stdout",
     "output_type": "stream",
     "text": [
      "47 is the largest number\n"
     ]
    }
   ],
   "source": [
    "#3\n",
    "l=[12,3,47,10]\n",
    "print(max(l),\"is the largest number\")"
   ]
  },
  {
   "cell_type": "code",
   "execution_count": 4,
   "id": "79707fb9",
   "metadata": {},
   "outputs": [
    {
     "name": "stdout",
     "output_type": "stream",
     "text": [
      "enter a string value ammu\n",
      "count of each character of  ammu : {'a': 1, 'm': 2, 'u': 1}\n"
     ]
    }
   ],
   "source": [
    "#4\n",
    "s=input(\"enter a string value \")\n",
    "v={}\n",
    "for i in s:\n",
    "    if i in v:\n",
    "        v[i]+=1\n",
    "    else:\n",
    "        v[i]=1\n",
    "print(\"count of each character of \",s,\":\",v)        \n",
    "        "
   ]
  },
  {
   "cell_type": "code",
   "execution_count": 5,
   "id": "2da0a4e6",
   "metadata": {},
   "outputs": [
    {
     "name": "stdout",
     "output_type": "stream",
     "text": [
      "(44, 55)\n"
     ]
    }
   ],
   "source": [
    "#5\n",
    "tuple1=(11,22,33,44,55)\n",
    "tuple2=tuple1[3:5]\n",
    "print(tuple2)"
   ]
  },
  {
   "cell_type": "code",
   "execution_count": 6,
   "id": "ff6cd400",
   "metadata": {},
   "outputs": [
    {
     "name": "stdout",
     "output_type": "stream",
     "text": [
      "current number 1 previous number 0 = 1\n",
      "current number 2 previous number 1 = 3\n",
      "current number 3 previous number 2 = 5\n",
      "current number 4 previous number 3 = 7\n",
      "current number 5 previous number 4 = 9\n",
      "current number 6 previous number 5 = 11\n",
      "current number 7 previous number 6 = 13\n",
      "current number 8 previous number 7 = 15\n",
      "current number 9 previous number 8 = 17\n",
      "current number 10 previous number 9 = 19\n"
     ]
    }
   ],
   "source": [
    "#6\n",
    "l=range(1,11)\n",
    "for i in l:\n",
    "    j=i-1\n",
    "    sum=i+j\n",
    "    \n",
    "    print(\"current number\",i,\"previous number\",j,\"=\",sum)    \n",
    " "
   ]
  },
  {
   "cell_type": "code",
   "execution_count": 7,
   "id": "036c9e68",
   "metadata": {},
   "outputs": [
    {
     "name": "stdout",
     "output_type": "stream",
     "text": [
      "10 it is divisible by 5\n",
      "20 it is divisible by 5\n",
      "33 it is not divisible by 5\n",
      "46 it is not divisible by 5\n",
      "55 it is divisible by 5\n"
     ]
    }
   ],
   "source": [
    "#7\n",
    "a=[10,20,33,46,55]\n",
    "for i in a:\n",
    "    if i%5==0:\n",
    "        print(i,\"it is divisible by 5\")\n",
    "    else:\n",
    "        print(i,\"it is not divisible by 5\")"
   ]
  },
  {
   "cell_type": "code",
   "execution_count": 14,
   "id": "113d3ad8",
   "metadata": {},
   "outputs": [
    {
     "name": "stdout",
     "output_type": "stream",
     "text": [
      "enter the number:5\n",
      "5 it is a prime number\n"
     ]
    }
   ],
   "source": [
    "#8\n",
    "num=int(input(\"enter the number:\"))\n",
    "if num>1:\n",
    "    for i in range(2,int(num/2)+1):\n",
    "        if num%i==0:\n",
    "            print(num,\"it is not a prime number\")\n",
    "            break\n",
    "            \n",
    "        else:\n",
    "            print(num,\"it is a prime number\")\n",
    "else:\n",
    "    print(\" is neither a prime nor a composite number\")"
   ]
  },
  {
   "cell_type": "code",
   "execution_count": 19,
   "id": "a7085b95",
   "metadata": {},
   "outputs": [
    {
     "name": "stdout",
     "output_type": "stream",
     "text": [
      "[70, 30, 40, 10]\n"
     ]
    }
   ],
   "source": [
    "#9\n",
    "l=[10,40,30,70]\n",
    "l.reverse()\n",
    "print(l)"
   ]
  },
  {
   "cell_type": "code",
   "execution_count": 21,
   "id": "6fcb7612",
   "metadata": {},
   "outputs": [
    {
     "name": "stdout",
     "output_type": "stream",
     "text": [
      "[70, 30, 40, 10]\n"
     ]
    }
   ],
   "source": [
    "\n",
    "#using for loop\n",
    "l=[10,40,30,70]\n",
    "l1=[]\n",
    "for i in l:\n",
    "    l1= [i]+l1\n",
    "print(l1)"
   ]
  },
  {
   "cell_type": "code",
   "execution_count": 23,
   "id": "1904b3e4",
   "metadata": {},
   "outputs": [
    {
     "name": "stdout",
     "output_type": "stream",
     "text": [
      "* \r\n",
      "* * \r\n",
      "* * * \r\n",
      "* * * * \r\n"
     ]
    }
   ],
   "source": [
    "#10\n",
    "def pypart(n):\n",
    "    for i in range(0,n):\n",
    "        for j in range(0,i+1):\n",
    "            print(\"*\",end=\" \")\n",
    "        print(\"\\r\")\n",
    "n=4\n",
    "pypart(n)"
   ]
  },
  {
   "cell_type": "code",
   "execution_count": 28,
   "id": "fc1b6a69",
   "metadata": {},
   "outputs": [
    {
     "name": "stdout",
     "output_type": "stream",
     "text": [
      "12  is the largest number\n"
     ]
    }
   ],
   "source": [
    "#11\n",
    "a=int(3)\n",
    "b=int(12)\n",
    "c=int(7)\n",
    "if (a>=b or a>=c):\n",
    "    print(a,\" is the largest number\")\n",
    "elif (b>=a or b>=c):\n",
    "    print(b,\" is the largest number\")\n",
    "else:\n",
    "    print(c,\"is the largest number\")\n"
   ]
  },
  {
   "cell_type": "code",
   "execution_count": 29,
   "id": "0ff55760",
   "metadata": {},
   "outputs": [
    {
     "name": "stdout",
     "output_type": "stream",
     "text": [
      "enter the base2\n",
      "enter the exponent3\n",
      "result= 8\n"
     ]
    }
   ],
   "source": [
    "#12\n",
    "def exponent(base,exp):\n",
    "    if (exp==1):\n",
    "        return(base)\n",
    "    if (exp!=1):\n",
    "        return(base*exponent(base,exp-1))\n",
    "base=int(input(\"enter the base\"))\n",
    "exp=int(input(\"enter the exponent\"))\n",
    "print(\"result=\",exponent(base,exp))\n",
    "    \n"
   ]
  },
  {
   "cell_type": "code",
   "execution_count": 40,
   "id": "c726a2d3",
   "metadata": {},
   "outputs": [
    {
     "name": "stdout",
     "output_type": "stream",
     "text": [
      "enter the value:4\n",
      "sum of cube of numbers 36\n"
     ]
    }
   ],
   "source": [
    "#13\n",
    "num=int(input(\"enter the value:\"))\n",
    "r=range(2,num)\n",
    "a=1\n",
    "for i in r:\n",
    "    a=a+(i*i*i)\n",
    "print(\"sum of cube of numbers\",a)    "
   ]
  },
  {
   "cell_type": "code",
   "execution_count": 2,
   "id": "238cb167",
   "metadata": {},
   "outputs": [
    {
     "name": "stdout",
     "output_type": "stream",
     "text": [
      "\n",
      "*\n",
      "**\n",
      "***\n",
      "****\n",
      "*****\n",
      "****\n",
      "***\n",
      "**\n",
      "*\n"
     ]
    }
   ],
   "source": [
    "#14\n",
    "rows=int(5)\n",
    "for i in range(rows):\n",
    "    for j in range (i):\n",
    "        print(\"*\",end='')\n",
    "    print('')\n",
    "for i in range(rows,0,-1):\n",
    "    for i in range(i):\n",
    "        print(\"*\",end='')\n",
    "    print('')\n",
    "    \n"
   ]
  },
  {
   "cell_type": "code",
   "execution_count": 4,
   "id": "85d462c9",
   "metadata": {},
   "outputs": [
    {
     "name": "stdout",
     "output_type": "stream",
     "text": [
      "enter the limit11\n",
      "1\n",
      "fizz\n",
      "3\n",
      "fizz\n",
      "buzz\n",
      "fizz\n",
      "7\n",
      "fizz\n",
      "9\n",
      "fizzbuzz\n"
     ]
    }
   ],
   "source": [
    "#15\n",
    "a=int(input(\"enter the limit\"))\n",
    "r=range(1,a)\n",
    "for i in r:\n",
    "    if i%2==0 and i%5==0:\n",
    "        print(\"fizzbuzz\")\n",
    "        continue\n",
    "    elif i%2==0:\n",
    "        print(\"fizz\")\n",
    "        continue\n",
    "    elif i%5==0:\n",
    "        print(\"buzz\")\n",
    "        continue\n",
    "    print(i)        \n",
    "    \n",
    "        "
   ]
  },
  {
   "cell_type": "code",
   "execution_count": 5,
   "id": "bd736cec",
   "metadata": {},
   "outputs": [
    {
     "name": "stdout",
     "output_type": "stream",
     "text": [
      "2\n"
     ]
    }
   ],
   "source": [
    "#16\n",
    "def most_frequent(list):\n",
    "    return max(set(list),key=list.count)\n",
    "list=[2,5,2,4,8,6,2]\n",
    "print(most_frequent(list))\n"
   ]
  },
  {
   "cell_type": "code",
   "execution_count": 8,
   "id": "26f65126",
   "metadata": {},
   "outputs": [
    {
     "name": "stdout",
     "output_type": "stream",
     "text": [
      "the original list is[2, 1, 3, 1]\n",
      "sum of sqaure of numbers 15\n"
     ]
    }
   ],
   "source": [
    "#17\n",
    "list=[2,1,3,1]\n",
    "print(\"the original list is\"+str(list))\n",
    "result=sum(map(lambda i:i*i,list))\n",
    "print(\"sum of sqaure of numbers \"+str(result))\n"
   ]
  },
  {
   "cell_type": "code",
   "execution_count": 11,
   "id": "ad4de0ab",
   "metadata": {},
   "outputs": [
    {
     "name": "stdout",
     "output_type": "stream",
     "text": [
      "1 odd number\n",
      "2 even number\n",
      "3 odd number\n",
      "4 even number\n",
      "5 odd number\n",
      "6 even number\n",
      "7 odd number\n",
      "8 even number\n",
      "9 odd number\n",
      "10 even number\n",
      "11 odd number\n",
      "12 even number\n",
      "13 odd number\n",
      "14 even number\n",
      "15 odd number\n"
     ]
    }
   ],
   "source": [
    "#18\n",
    "a=range(1,16)\n",
    "for i in a:\n",
    "    if i%2==0:\n",
    "        print(i,\"even number\")\n",
    "    else:\n",
    "        print(i,\"odd number\")\n",
    "    \n"
   ]
  },
  {
   "cell_type": "code",
   "execution_count": 19,
   "id": "80950db0",
   "metadata": {},
   "outputs": [
    {
     "name": "stdout",
     "output_type": "stream",
     "text": [
      "enter the temperature in farenheit 45\n",
      "7.222222222222222 temperature in celsius\n"
     ]
    }
   ],
   "source": [
    "#19\n",
    "f=float(input(\"enter the temperature in farenheit \"))\n",
    "c=((f-32)*5)/9\n",
    "print(c,\"temperature in celsius\")              \n",
    "            "
   ]
  },
  {
   "cell_type": "code",
   "execution_count": 23,
   "id": "09994ef5",
   "metadata": {},
   "outputs": [
    {
     "name": "stdout",
     "output_type": "stream",
     "text": [
      "factorial of num : 3 is 6\n"
     ]
    }
   ],
   "source": [
    "#20\n",
    "def factorial(n):\n",
    "    return 1 if(n==1 or n==0) else n*factorial(n-1)\n",
    "n=3;\n",
    "print(\"factorial of num :\", n, \"is\",factorial(n))"
   ]
  }
 ],
 "metadata": {
  "kernelspec": {
   "display_name": "Python 3 (ipykernel)",
   "language": "python",
   "name": "python3"
  },
  "language_info": {
   "codemirror_mode": {
    "name": "ipython",
    "version": 3
   },
   "file_extension": ".py",
   "mimetype": "text/x-python",
   "name": "python",
   "nbconvert_exporter": "python",
   "pygments_lexer": "ipython3",
   "version": "3.9.12"
  }
 },
 "nbformat": 4,
 "nbformat_minor": 5
}
